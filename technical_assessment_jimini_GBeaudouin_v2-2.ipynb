{
 "cells": [
  {
   "cell_type": "markdown",
   "metadata": {
    "id": "U6cxYCxImCbg"
   },
   "source": [
    "# Evaluation Technique Jimini\n",
    "\n",
    "## Présentation de Jimini\n",
    "\n",
    "Pour rappel, nous développons trois outils :\n",
    "- Un outil d'analyse factuelle de documents;\n",
    "- Un outil de recherche juridique;\n",
    "- Un outil de rédaction de documents juridiques, type contrats.\n",
    "\n",
    "## Information Retrieval\n",
    "\n",
    "### Objectif\n",
    "\n",
    "Les deux premiers outils nécessitent d'être capable de récupérer le contexte pertinent dans un ensemble de paragraphes donné - problématique connue sous le nom d'`information retrieval` ou de `document retrieval`. L'objectif de cette partie est donc de construire un moteur de recherche juridique. Nous disposons d'un corpus de documents juridiques, et nous souhaitons que l'utilisateur puisse poser une question en langage naturel, puis que le moteur de recherche lui renvoie les documents les plus pertinents.\n",
    "\n",
    "### Dataset\n",
    "\n",
    "Dans le cadre de ce notebook, nous nous intéressons à un jeu de données juridique francophone : [Belgian Statuatory Article Retrieval Dataset (BSARD)](https://huggingface.co/datasets/maastrichtlawtech/bsard), qui contient ~1000 questions posées par les utilisateurs d'une plateforme d'information juridique belge (Droits Quotidiens), ainsi que les articles pertinents pour y répondre. Ce jeu de données est issu de l'article [A Statutory Article Retrieval Dataset in French](https://arxiv.org/pdf/2108.11792.pdf) de l'Université de Maastricht.\n",
    "\n",
    "Ainsi que détaillé sur la page HuggingFace, le dataset se présente sous la forme de deux fichiers CSV contenant les questions d'entraînement `questions_fr_train.csv` et de test `questions_fr_test.csv`, et structurés comme suit :\n",
    " - `id` : un attribut int32 correspondant à un numéro d'identifiant unique pour la question.\n",
    " - `question` : un attribut de type chaîne de caractères correspondant à la question.\n",
    " - `category` : un attribut de type chaîne de caractères correspondant au sujet général de la question.\n",
    " - `subcategory` : un attribut de type chaîne de caractères correspondant au sous-sujet de la question.\n",
    " - `extra_description` : un attribut de type chaîne de caractères correspondant aux tags de catégorisation supplémentaires de la question.\n",
    " - `article_ids` : un attribut de type chaîne de caractères contenant les ID d'articles pertinents pour la question, séparés par des virgules.\n",
    "\n",
    "(À noter, ce dataset contient également un échantillon de ~113k questions synthétiques, ainsi que des exemples de *négatifs* durs, c'est-à-dire des questions avec des articles non-pertinents, dont vous pouvez librement vous servir pour entraîner votre modèle.)\n",
    "\n",
    "Et d'un fichier `articles.csv` :\n",
    " - `id` : un attribut int32 correspondant à un numéro d'identifiant unique pour l'article.\n",
    " - `article` : un attribut de type chaîne de caractères correspondant à l'intégralité de l'article.\n",
    " - `code` : un attribut de type chaîne de caractères correspondant au code de loi auquel appartient l'article.\n",
    " - `article_no` : un attribut de type chaîne de caractères correspondant au numéro de l'article dans le code.\n",
    " - `description` : un attribut de type chaîne de caractères correspondant aux titres concaténés de l'article.\n",
    " - `law_type` : un attribut de type chaîne de caractères dont la valeur est soit \"regional\" soit \"national\".\n",
    "\n",
    "### Évaluation\n",
    "\n",
    "Ainsi que dans l'[article](https://arxiv.org/pdf/2108.11792.pdf), nous évaluerons la performance du modèle en utilisant les métriques R@100, R@200, R@500, MAP@100 et MRR@100.\n",
    "\n",
    "Cependant, en conditions réelles, nous souhaitons que le moteur de recherche renvoie les documents les plus pertinents en premier. Nous utiliserons donc la métrique NDCG@100, qui prend en compte l'ordre des documents renvoyés, ainsi que les métriques précédentes, avec un $k$ plus petit (par exemple $k=1$, $k=5$ et $k=10$).\n",
    "\n",
    "#### Pyterrier\n",
    "\n",
    "On se sert ici du framework Pyterrier qui permet assez simplement de prototyper et évaluer un moteur de recherche, mais **libre au candidat d'utiliser l'approche qu'il préfère**.\n",
    "Dans le code suivant, on se sert des notations de `PyTerrier`, qui fonctionne avec les clés suivantes :\n",
    "- `qid` : `str` l'identifiant de la question\n",
    "- `docno` : `str` l'identifiant de l'article\n",
    "- `query` : `str` le texte de la question\n",
    "- `rel_docnos` : `List[str]` la liste des documents pertinents pour la question\n",
    "- `score`: `float` le score de pertinence du document pour la question\n",
    "- `label`: `int` la pertinence du document pour la question (1 si pertinent, 0 sinon)\n",
    "- `qrels` : `Dict[str, Dict[str, int]]` un dictionnaire contenant les documents pertinents pour chaque question\n"
   ]
  },
  {
   "cell_type": "markdown",
   "source": [
    "## Loader les données et Pyterrier l'evaluation"
   ],
   "metadata": {
    "id": "TlH_m7nUHYIs"
   }
  },
  {
   "metadata": {
    "ExecuteTime": {
     "end_time": "2024-09-06T13:51:12.062459Z",
     "start_time": "2024-09-06T13:51:12.059526Z"
    }
   },
   "cell_type": "code",
   "source": [
    "import torch\n",
    "import pyterrier as pt\n",
    "import pandas as pd\n",
    "import os"
   ],
   "outputs": [],
   "execution_count": 3
  },
  {
   "metadata": {
    "ExecuteTime": {
     "end_time": "2024-09-06T13:51:04.912969Z",
     "start_time": "2024-09-06T13:51:02.453534Z"
    }
   },
   "cell_type": "code",
   "source": "import torch",
   "outputs": [],
   "execution_count": 1
  },
  {
   "metadata": {
    "ExecuteTime": {
     "end_time": "2024-09-05T19:50:32.023819Z",
     "start_time": "2024-09-05T19:50:32.011995Z"
    }
   },
   "cell_type": "code",
   "source": [
    "from jnius import autoclass\n",
    "System = autoclass('java.lang.System')\n",
    "print(System.getProperty('java.version'))\n"
   ],
   "outputs": [
    {
     "name": "stdout",
     "output_type": "stream",
     "text": [
      "22.0.2\n"
     ]
    }
   ],
   "execution_count": 7
  },
  {
   "cell_type": "code",
   "metadata": {
    "id": "y18F7D9smCbp",
    "colab": {
     "base_uri": "https://localhost:8080/"
    },
    "outputId": "e589dfce-31c0-4f49-b378-ad3315ba8937",
    "ExecuteTime": {
     "end_time": "2024-09-05T19:54:29.220030Z",
     "start_time": "2024-09-05T19:54:27.327165Z"
    }
   },
   "source": [
    "if not pt.started():\n",
    "    pt.init()\n"
   ],
   "outputs": [
    {
     "name": "stderr",
     "output_type": "stream",
     "text": [
      "PyTerrier 0.10.0 has loaded Terrier 5.10 (built by craigm on 2024-08-22 17:33) and terrier-helper 0.0.8\n",
      "\n"
     ]
    }
   ],
   "execution_count": 2
  },
  {
   "metadata": {
    "ExecuteTime": {
     "end_time": "2024-09-06T13:51:20.248124Z",
     "start_time": "2024-09-06T13:51:19.198030Z"
    }
   },
   "cell_type": "code",
   "source": "from datasets import load_dataset",
   "outputs": [],
   "execution_count": 5
  },
  {
   "cell_type": "code",
   "source": [
    "# Load the dataset\n",
    "datasets = load_dataset(\"maastrichtlawtech/bsard\", 'questions')\n",
    "train, test = datasets['train'], datasets['test']\n",
    "\n",
    "# Convert to pandas dataframes\n",
    "df_train = pd.DataFrame(train)\n",
    "df_test = pd.DataFrame(test)\n",
    "print(df_train.columns)\n",
    "#print(df_test.head())"
   ],
   "metadata": {
    "colab": {
     "base_uri": "https://localhost:8080/"
    },
    "id": "VMBFkzoV0TtU",
    "outputId": "4ad22983-6678-402e-de09-f6a3660eade3",
    "ExecuteTime": {
     "end_time": "2024-09-06T13:51:48.737605Z",
     "start_time": "2024-09-06T13:51:20.699501Z"
    }
   },
   "outputs": [
    {
     "name": "stdout",
     "output_type": "stream",
     "text": [
      "Index(['id', 'category', 'subcategory', 'question', 'extra_description',\n",
      "       'article_ids'],\n",
      "      dtype='object')\n"
     ]
    }
   ],
   "execution_count": 6
  },
  {
   "cell_type": "code",
   "source": [
    "# Retrieve the corpus of articles from the dataset\n",
    "#!wget https://huggingface.co/datasets/maastrichtlawtech/bsard/resolve/main/articles.csv\n",
    "df_articles = pd.read_csv('data/articles.csv')\n",
    "print(df_articles.columns)"
   ],
   "metadata": {
    "colab": {
     "base_uri": "https://localhost:8080/"
    },
    "id": "nytccCad5nou",
    "outputId": "0a1be8f9-7d67-483e-e8d6-ca72132ef577",
    "ExecuteTime": {
     "end_time": "2024-09-06T13:51:55.672492Z",
     "start_time": "2024-09-06T13:51:55.446906Z"
    }
   },
   "outputs": [
    {
     "name": "stdout",
     "output_type": "stream",
     "text": [
      "Index(['id', 'reference', 'article', 'law_type', 'code', 'book', 'part', 'act',\n",
      "       'chapter', 'section', 'subsection', 'description'],\n",
      "      dtype='object')\n"
     ]
    }
   ],
   "execution_count": 7
  },
  {
   "cell_type": "code",
   "source": [
    "# Retrieve the corpus of articles from the dataset\n",
    "#!wget https://huggingface.co/datasets/maastrichtlawtech/bsard/resolve/main/negatives/bm25_negatives_train.json\n",
    "df_neg = pd.read_json('data/negatives_bm25_negatives_train.json')\n",
    "print(df_neg.columns)"
   ],
   "metadata": {
    "colab": {
     "base_uri": "https://localhost:8080/"
    },
    "id": "Z3JiDR3RB-ju",
    "outputId": "8bf4a3d1-935c-4c7e-8a48-a587864bfff2",
    "ExecuteTime": {
     "end_time": "2024-09-06T13:56:56.567621Z",
     "start_time": "2024-09-06T13:56:56.543341Z"
    }
   },
   "outputs": [
    {
     "name": "stdout",
     "output_type": "stream",
     "text": [
      "Index([1102,   91,  474,  836, 1079,  850,  176,  342, 1044,  946,\n",
      "       ...\n",
      "       1037,   31,  702,  433,  712,  308,  387,  940,  364,   51],\n",
      "      dtype='int64', length=886)\n"
     ]
    }
   ],
   "execution_count": 9
  },
  {
   "metadata": {
    "ExecuteTime": {
     "end_time": "2024-09-06T13:57:23.999112Z",
     "start_time": "2024-09-06T13:57:23.993882Z"
    }
   },
   "cell_type": "code",
   "source": [
    "print(df_neg.shape)\n",
    "print(df_neg.head)"
   ],
   "outputs": [
    {
     "name": "stdout",
     "output_type": "stream",
     "text": [
      "(10, 886)\n",
      "<bound method NDFrame.head of     1102   91    474    836    1079   850    176    342    1044  946   ...  \\\n",
      "0   7026   5730   948    729  21112    992   1203   5516  16811  2514  ...   \n",
      "1   7011   5731   947  12102  18724    901   2130   5517  16806  2522  ...   \n",
      "2   6855   5747  1094    611  18199   2486   1765   1056  17160  2486  ...   \n",
      "3   7008   5791  1112    616  21055   4381   1655   1058  16810  2519  ...   \n",
      "4   7009  13774  1102    759  21087  17275   1819   1234  16808  2531  ...   \n",
      "5  22176   5463  1123    837   3309   1003  20060   1303   7037   886  ...   \n",
      "6   7010    673  1104  12273  18714  17280   2335   1150  12048  2529  ...   \n",
      "7   7024  18222  1114  12065   9078   2864   1210  16028   7036  2477  ...   \n",
      "8  22105    755  1120  12041   3310   2930   2272   1067  17157  2482  ...   \n",
      "9   7067    734  4813  12042  18593  16076   1197   1156    637   884  ...   \n",
      "\n",
      "    1037   31     702    433    712   308   387    940    364    51    \n",
      "0  12048  18702   5421   5495   5486  1175  1385  19235   5083  14503  \n",
      "1  17160   2801  13470   2336  15996  1337  1403   2486  18985  14554  \n",
      "2  16810  10120  18110  15839   5485  1338  1394    534   4777  12217  \n",
      "3  17157   7464   4511   5471   1084  7219  1372   5795   5084  18873  \n",
      "4   4942  14671  18114   1356   5505  1320  1397   4645  15729  19500  \n",
      "5  16813  15884  17925  14119   5479  6623  2657   1522   5990    739  \n",
      "6  16811   1707  17973   5455   5506  3741  1378  19264  10661  14546  \n",
      "7  16806  15826   7539  14121   1089  1309  1414  19268   8448  14556  \n",
      "8  16808  21677   4401   5482  16009  1339  1393   2480   5941  14551  \n",
      "9   1466  19274  22325   1079   5472  1283  1389   4710   5079  10107  \n",
      "\n",
      "[10 rows x 886 columns]>\n"
     ]
    }
   ],
   "execution_count": 12
  },
  {
   "metadata": {
    "ExecuteTime": {
     "end_time": "2024-09-06T13:57:11.823580Z",
     "start_time": "2024-09-06T13:57:11.820507Z"
    }
   },
   "cell_type": "code",
   "source": "print(df_train.shape)",
   "outputs": [
    {
     "name": "stdout",
     "output_type": "stream",
     "text": [
      "(886, 6)\n"
     ]
    }
   ],
   "execution_count": 11
  },
  {
   "cell_type": "code",
   "source": [
    "# Ensure that the article IDs are strings, and rename the column to 'docno', because of PyTerrier's expectations\n",
    "df_articles['docno'] = df_articles['id'].astype(str)\n",
    "df_articles[\"article\"] = df_articles[\"article\"].str.replace(\"[^a-zA-Z0-9 À-ÿ]\", \" \", regex=True).str.strip().str.replace(\" +\", \" \", regex=True)\n",
    "\n",
    "# Define a function to prepare the query dataframe\n",
    "def prepare_queries(df):\n",
    "    queries = pd.DataFrame({\n",
    "        'qid': df['id'].astype(str),\n",
    "        'query': df['question'].str.replace(\"[^a-zA-Z0-9 À-ÿ]\", \" \", regex=True).str.strip().str.replace(\" +\", \" \", regex=True),\n",
    "        'rel_docnos': [str(_id) for _id in df['article_ids']]\n",
    "    })\n",
    "    return queries\n",
    "\n",
    "# Prepare the train and test query dataframes\n",
    "train_queries = prepare_queries(df_train)\n",
    "test_queries = prepare_queries(df_test)\n",
    "\n",
    "# Convert relevance judgements to a DataFrame, for PyTerrier\n",
    "#qrels = pd.DataFrame([\n",
    "#    {'qid': str(qid), 'docno': str(docno), 'label': 1}\n",
    "#    for qid, docnos in test_queries[['qid', 'rel_docnos']].itertuples(index=False)\n",
    "#    for docno in ast.literal_eval(docnos)  # Convert the string representation of list back to a list\n",
    "#])\n"
   ],
   "metadata": {
    "id": "QADOoib2WgEQ",
    "ExecuteTime": {
     "end_time": "2024-09-05T20:12:03.274663Z",
     "start_time": "2024-09-05T20:12:02.587831Z"
    }
   },
   "outputs": [],
   "execution_count": 6
  },
  {
   "cell_type": "code",
   "source": [
    "print(test_queries.head())\n"
   ],
   "metadata": {
    "colab": {
     "base_uri": "https://localhost:8080/"
    },
    "id": "cNRQmA6vU2cb",
    "outputId": "3504b47d-e48e-4e58-f46a-b2ff00f69bf9",
    "ExecuteTime": {
     "end_time": "2024-09-05T20:12:03.292307Z",
     "start_time": "2024-09-05T20:12:03.286855Z"
    }
   },
   "outputs": [
    {
     "name": "stdout",
     "output_type": "stream",
     "text": [
      "    qid                                              query  \\\n",
      "0   775    Quels sont les critères communaux d insalubrité   \n",
      "1  1053  A t on droit à l allocation de naissance en ca...   \n",
      "2    72  Quels frais peut on ajouter lors d un recouvre...   \n",
      "3   861       Comment se déroule une expulsion à Bruxelles   \n",
      "4   786            Peut on m expulser en hiver en Wallonie   \n",
      "\n",
      "                                 rel_docnos  \n",
      "0                                     12024  \n",
      "1                                   947,948  \n",
      "2                            2041,2119,2138  \n",
      "3                  5562,5563,5564,5565,5566  \n",
      "4  5561,5562,5563,5564,5565,5566,5567,12124  \n"
     ]
    }
   ],
   "execution_count": 7
  },
  {
   "cell_type": "code",
   "source": [
    "qrels = pd.DataFrame([\n",
    "    {'qid': str(qid), 'docno': str(docno), 'label': 1}\n",
    "    for qid, docnos in test_queries[['qid', 'rel_docnos']].itertuples(index=False)\n",
    "    for docno in docnos\n",
    "])\n"
   ],
   "metadata": {
    "id": "7RJzLUT6T4Ca",
    "ExecuteTime": {
     "end_time": "2024-09-05T19:55:01.795625Z",
     "start_time": "2024-09-05T19:55:01.776360Z"
    }
   },
   "outputs": [],
   "execution_count": 9
  },
  {
   "cell_type": "code",
   "source": [
    "print(qrels.head)"
   ],
   "metadata": {
    "colab": {
     "base_uri": "https://localhost:8080/"
    },
    "id": "fDaomfj4gaaM",
    "outputId": "518eee5e-8153-42f1-e4e4-d752f988d8ee",
    "ExecuteTime": {
     "end_time": "2024-09-05T19:55:03.815226Z",
     "start_time": "2024-09-05T19:55:03.810260Z"
    }
   },
   "outputs": [
    {
     "name": "stdout",
     "output_type": "stream",
     "text": [
      "<bound method NDFrame.head of       qid docno  label\n",
      "0     775     1      1\n",
      "1     775     2      1\n",
      "2     775     0      1\n",
      "3     775     2      1\n",
      "4     775     4      1\n",
      "...   ...   ...    ...\n",
      "5080  512     ,      1\n",
      "5081  512     6      1\n",
      "5082  512     5      1\n",
      "5083  512     9      1\n",
      "5084  512     8      1\n",
      "\n",
      "[5085 rows x 3 columns]>\n"
     ]
    }
   ],
   "execution_count": 10
  },
  {
   "cell_type": "markdown",
   "metadata": {
    "id": "Le1UHUODmCbq"
   },
   "source": [
    "On indexe les articles dans l'index PyTerrier (`DFIndex` avait un bug, donc on passe par un `IterDictIndex`)"
   ]
  },
  {
   "cell_type": "code",
   "metadata": {
    "id": "1Z39iqiCmCbq",
    "colab": {
     "base_uri": "https://localhost:8080/"
    },
    "outputId": "b3afaaed-e09a-476e-8372-02334c54a955",
    "ExecuteTime": {
     "end_time": "2024-09-05T19:55:19.005158Z",
     "start_time": "2024-09-05T19:55:18.170394Z"
    }
   },
   "source": [
    "# Indexing the articles using IterDictIndexer\n",
    "if os.path.exists(\"./bsard_index\"):\n",
    "    shutil.rmtree(\"./bsard_index\")\n",
    "indexer = pt.IterDictIndexer(\"./bsard_index\", overwrite=True)\n",
    "docs = [{\"docno\": str(row[\"id\"]), \"text\": row[\"article\"]} for _, row in df_articles.iterrows()]\n",
    "indexref = indexer.index(docs, fields=[\"text\"])\n",
    "\n",
    "index = pt.IndexFactory.of(indexref)\n"
   ],
   "outputs": [
    {
     "name": "stdout",
     "output_type": "stream",
     "text": [
      "21:55:18.761 [main] ERROR org.terrier.structures.Index -- Cannot create new index: path C:\\Users\\Gaspard.BEAUDOUIN\\Jemi\\.\\var\\./bsard_index does not exist, or cannot be written to\r\n"
     ]
    },
    {
     "ename": "JavaException",
     "evalue": "JVM exception occurred: Cannot create new index: path C:\\Users\\Gaspard.BEAUDOUIN\\Jemi\\.\\var\\./bsard_index does not exist, or cannot be written to java.lang.IllegalArgumentException",
     "output_type": "error",
     "traceback": [
      "\u001B[1;31m---------------------------------------------------------------------------\u001B[0m",
      "\u001B[1;31mJavaException\u001B[0m                             Traceback (most recent call last)",
      "Cell \u001B[1;32mIn[11], line 6\u001B[0m\n\u001B[0;32m      4\u001B[0m indexer \u001B[38;5;241m=\u001B[39m pt\u001B[38;5;241m.\u001B[39mIterDictIndexer(\u001B[38;5;124m\"\u001B[39m\u001B[38;5;124m./bsard_index\u001B[39m\u001B[38;5;124m\"\u001B[39m, overwrite\u001B[38;5;241m=\u001B[39m\u001B[38;5;28;01mTrue\u001B[39;00m)\n\u001B[0;32m      5\u001B[0m docs \u001B[38;5;241m=\u001B[39m [{\u001B[38;5;124m\"\u001B[39m\u001B[38;5;124mdocno\u001B[39m\u001B[38;5;124m\"\u001B[39m: \u001B[38;5;28mstr\u001B[39m(row[\u001B[38;5;124m\"\u001B[39m\u001B[38;5;124mid\u001B[39m\u001B[38;5;124m\"\u001B[39m]), \u001B[38;5;124m\"\u001B[39m\u001B[38;5;124mtext\u001B[39m\u001B[38;5;124m\"\u001B[39m: row[\u001B[38;5;124m\"\u001B[39m\u001B[38;5;124marticle\u001B[39m\u001B[38;5;124m\"\u001B[39m]} \u001B[38;5;28;01mfor\u001B[39;00m _, row \u001B[38;5;129;01min\u001B[39;00m df_articles\u001B[38;5;241m.\u001B[39miterrows()]\n\u001B[1;32m----> 6\u001B[0m indexref \u001B[38;5;241m=\u001B[39m \u001B[43mindexer\u001B[49m\u001B[38;5;241;43m.\u001B[39;49m\u001B[43mindex\u001B[49m\u001B[43m(\u001B[49m\u001B[43mdocs\u001B[49m\u001B[43m,\u001B[49m\u001B[43m \u001B[49m\u001B[43mfields\u001B[49m\u001B[38;5;241;43m=\u001B[39;49m\u001B[43m[\u001B[49m\u001B[38;5;124;43m\"\u001B[39;49m\u001B[38;5;124;43mtext\u001B[39;49m\u001B[38;5;124;43m\"\u001B[39;49m\u001B[43m]\u001B[49m\u001B[43m)\u001B[49m\n\u001B[0;32m      8\u001B[0m index \u001B[38;5;241m=\u001B[39m pt\u001B[38;5;241m.\u001B[39mIndexFactory\u001B[38;5;241m.\u001B[39mof(indexref)\n",
      "File \u001B[1;32m~\\Jemi\\.venv\\Lib\\site-packages\\pyterrier\\index.py:959\u001B[0m, in \u001B[0;36m_IterDictIndexer_nofifo.index\u001B[1;34m(self, it, fields, meta, meta_lengths, threads)\u001B[0m\n\u001B[0;32m    957\u001B[0m \u001B[38;5;66;03m# remove once 5.7 is now the minimum version\u001B[39;00m\n\u001B[0;32m    958\u001B[0m \u001B[38;5;28;01mfrom\u001B[39;00m \u001B[38;5;21;01m.\u001B[39;00m \u001B[38;5;28;01mimport\u001B[39;00m check_version\n\u001B[1;32m--> 959\u001B[0m \u001B[43mindexer\u001B[49m\u001B[38;5;241;43m.\u001B[39;49m\u001B[43mindex\u001B[49m\u001B[43m(\u001B[49m\u001B[43mjavaDocCollection\u001B[49m\u001B[43m \u001B[49m\u001B[38;5;28;43;01mif\u001B[39;49;00m\u001B[43m \u001B[49m\u001B[43mcheck_version\u001B[49m\u001B[43m(\u001B[49m\u001B[38;5;124;43m\"\u001B[39;49m\u001B[38;5;124;43m5.7\u001B[39;49m\u001B[38;5;124;43m\"\u001B[39;49m\u001B[43m)\u001B[49m\u001B[43m \u001B[49m\u001B[38;5;28;43;01melse\u001B[39;49;00m\u001B[43m \u001B[49m\u001B[43m[\u001B[49m\u001B[43mjavaDocCollection\u001B[49m\u001B[43m]\u001B[49m\u001B[43m)\u001B[49m\n\u001B[0;32m    960\u001B[0m \u001B[38;5;28;01mglobal\u001B[39;00m lastdoc\n\u001B[0;32m    961\u001B[0m lastdoc \u001B[38;5;241m=\u001B[39m \u001B[38;5;28;01mNone\u001B[39;00m\n",
      "File \u001B[1;32mjnius\\\\jnius_export_class.pxi:1163\u001B[0m, in \u001B[0;36mjnius.JavaMultipleMethod.__call__\u001B[1;34m()\u001B[0m\n",
      "File \u001B[1;32mjnius\\\\jnius_export_class.pxi:877\u001B[0m, in \u001B[0;36mjnius.JavaMethod.__call__\u001B[1;34m()\u001B[0m\n",
      "File \u001B[1;32mjnius\\\\jnius_export_class.pxi:971\u001B[0m, in \u001B[0;36mjnius.JavaMethod.call_method\u001B[1;34m()\u001B[0m\n",
      "File \u001B[1;32mjnius\\\\jnius_utils.pxi:79\u001B[0m, in \u001B[0;36mjnius.check_exception\u001B[1;34m()\u001B[0m\n",
      "\u001B[1;31mJavaException\u001B[0m: JVM exception occurred: Cannot create new index: path C:\\Users\\Gaspard.BEAUDOUIN\\Jemi\\.\\var\\./bsard_index does not exist, or cannot be written to java.lang.IllegalArgumentException"
     ]
    }
   ],
   "execution_count": 11
  },
  {
   "metadata": {
    "ExecuteTime": {
     "end_time": "2024-09-05T19:59:27.803365Z",
     "start_time": "2024-09-05T19:59:27.796909Z"
    }
   },
   "cell_type": "code",
   "source": "import shutil",
   "outputs": [],
   "execution_count": 17
  },
  {
   "metadata": {
    "ExecuteTime": {
     "end_time": "2024-09-05T20:05:27.510760Z",
     "start_time": "2024-09-05T20:05:26.638252Z"
    }
   },
   "cell_type": "code",
   "source": [
    "# Define the index path\n",
    "index_path = \"./bsard_index\"  # Simplify the path\n",
    "\n",
    "# Remove the old index if it exists\n",
    "if os.path.exists(index_path):\n",
    "    shutil.rmtree(index_path)\n",
    "\n",
    "# Ensure parent directory exists\n",
    "os.makedirs(os.path.dirname(index_path), exist_ok=True)\n",
    "\n",
    "# Initialize the indexer\n",
    "indexer = pt.IterDictIndexer(index_path, overwrite=True)\n",
    "\n",
    "# Prepare documents for indexing\n",
    "docs = [{\"docno\": str(row[\"id\"]), \"text\": row[\"article\"]} for _, row in df_articles.iterrows()]\n",
    "\n",
    "# Index the documents\n",
    "indexref = indexer.index(docs, fields=[\"text\"])\n",
    "\n",
    "# Load the index\n",
    "index = pt.IndexFactory.of(indexref)"
   ],
   "outputs": [
    {
     "name": "stdout",
     "output_type": "stream",
     "text": [
      "22:05:27.478 [main] ERROR org.terrier.structures.Index -- Cannot create new index: path C:\\Users\\Gaspard.BEAUDOUIN\\Jemi\\.\\var\\./bsard_index does not exist, or cannot be written to\r\n"
     ]
    },
    {
     "ename": "JavaException",
     "evalue": "JVM exception occurred: Cannot create new index: path C:\\Users\\Gaspard.BEAUDOUIN\\Jemi\\.\\var\\./bsard_index does not exist, or cannot be written to java.lang.IllegalArgumentException",
     "output_type": "error",
     "traceback": [
      "\u001B[1;31m---------------------------------------------------------------------------\u001B[0m",
      "\u001B[1;31mJavaException\u001B[0m                             Traceback (most recent call last)",
      "Cell \u001B[1;32mIn[19], line 18\u001B[0m\n\u001B[0;32m     15\u001B[0m docs \u001B[38;5;241m=\u001B[39m [{\u001B[38;5;124m\"\u001B[39m\u001B[38;5;124mdocno\u001B[39m\u001B[38;5;124m\"\u001B[39m: \u001B[38;5;28mstr\u001B[39m(row[\u001B[38;5;124m\"\u001B[39m\u001B[38;5;124mid\u001B[39m\u001B[38;5;124m\"\u001B[39m]), \u001B[38;5;124m\"\u001B[39m\u001B[38;5;124mtext\u001B[39m\u001B[38;5;124m\"\u001B[39m: row[\u001B[38;5;124m\"\u001B[39m\u001B[38;5;124marticle\u001B[39m\u001B[38;5;124m\"\u001B[39m]} \u001B[38;5;28;01mfor\u001B[39;00m _, row \u001B[38;5;129;01min\u001B[39;00m df_articles\u001B[38;5;241m.\u001B[39miterrows()]\n\u001B[0;32m     17\u001B[0m \u001B[38;5;66;03m# Index the documents\u001B[39;00m\n\u001B[1;32m---> 18\u001B[0m indexref \u001B[38;5;241m=\u001B[39m \u001B[43mindexer\u001B[49m\u001B[38;5;241;43m.\u001B[39;49m\u001B[43mindex\u001B[49m\u001B[43m(\u001B[49m\u001B[43mdocs\u001B[49m\u001B[43m,\u001B[49m\u001B[43m \u001B[49m\u001B[43mfields\u001B[49m\u001B[38;5;241;43m=\u001B[39;49m\u001B[43m[\u001B[49m\u001B[38;5;124;43m\"\u001B[39;49m\u001B[38;5;124;43mtext\u001B[39;49m\u001B[38;5;124;43m\"\u001B[39;49m\u001B[43m]\u001B[49m\u001B[43m)\u001B[49m\n\u001B[0;32m     20\u001B[0m \u001B[38;5;66;03m# Load the index\u001B[39;00m\n\u001B[0;32m     21\u001B[0m index \u001B[38;5;241m=\u001B[39m pt\u001B[38;5;241m.\u001B[39mIndexFactory\u001B[38;5;241m.\u001B[39mof(indexref)\n",
      "File \u001B[1;32m~\\Jemi\\.venv\\Lib\\site-packages\\pyterrier\\index.py:959\u001B[0m, in \u001B[0;36m_IterDictIndexer_nofifo.index\u001B[1;34m(self, it, fields, meta, meta_lengths, threads)\u001B[0m\n\u001B[0;32m    957\u001B[0m \u001B[38;5;66;03m# remove once 5.7 is now the minimum version\u001B[39;00m\n\u001B[0;32m    958\u001B[0m \u001B[38;5;28;01mfrom\u001B[39;00m \u001B[38;5;21;01m.\u001B[39;00m \u001B[38;5;28;01mimport\u001B[39;00m check_version\n\u001B[1;32m--> 959\u001B[0m \u001B[43mindexer\u001B[49m\u001B[38;5;241;43m.\u001B[39;49m\u001B[43mindex\u001B[49m\u001B[43m(\u001B[49m\u001B[43mjavaDocCollection\u001B[49m\u001B[43m \u001B[49m\u001B[38;5;28;43;01mif\u001B[39;49;00m\u001B[43m \u001B[49m\u001B[43mcheck_version\u001B[49m\u001B[43m(\u001B[49m\u001B[38;5;124;43m\"\u001B[39;49m\u001B[38;5;124;43m5.7\u001B[39;49m\u001B[38;5;124;43m\"\u001B[39;49m\u001B[43m)\u001B[49m\u001B[43m \u001B[49m\u001B[38;5;28;43;01melse\u001B[39;49;00m\u001B[43m \u001B[49m\u001B[43m[\u001B[49m\u001B[43mjavaDocCollection\u001B[49m\u001B[43m]\u001B[49m\u001B[43m)\u001B[49m\n\u001B[0;32m    960\u001B[0m \u001B[38;5;28;01mglobal\u001B[39;00m lastdoc\n\u001B[0;32m    961\u001B[0m lastdoc \u001B[38;5;241m=\u001B[39m \u001B[38;5;28;01mNone\u001B[39;00m\n",
      "File \u001B[1;32mjnius\\\\jnius_export_class.pxi:1163\u001B[0m, in \u001B[0;36mjnius.JavaMultipleMethod.__call__\u001B[1;34m()\u001B[0m\n",
      "File \u001B[1;32mjnius\\\\jnius_export_class.pxi:877\u001B[0m, in \u001B[0;36mjnius.JavaMethod.__call__\u001B[1;34m()\u001B[0m\n",
      "File \u001B[1;32mjnius\\\\jnius_export_class.pxi:971\u001B[0m, in \u001B[0;36mjnius.JavaMethod.call_method\u001B[1;34m()\u001B[0m\n",
      "File \u001B[1;32mjnius\\\\jnius_utils.pxi:79\u001B[0m, in \u001B[0;36mjnius.check_exception\u001B[1;34m()\u001B[0m\n",
      "\u001B[1;31mJavaException\u001B[0m: JVM exception occurred: Cannot create new index: path C:\\Users\\Gaspard.BEAUDOUIN\\Jemi\\.\\var\\./bsard_index does not exist, or cannot be written to java.lang.IllegalArgumentException"
     ]
    }
   ],
   "execution_count": 19
  },
  {
   "cell_type": "markdown",
   "metadata": {
    "id": "98QokzdtmCbq"
   },
   "source": [
    "Le `retriever` doit être capable, étant donné une question, de classer les articles par pertinence. Le format de sortie est un CSV avec trois colonnes :\n",
    "- `qid` : `str` l'identifiant de la question\n",
    "- `docno` : `str` l'identifiant de l'article\n",
    "- `score` : `float` le score de pertinence de l'article pour la question\n",
    "\n",
    "Libre au candidat de choisir l'approche qu'il préfère pour construire le `retriever`, l'essentiel étant qu'il construise un fichier CSV avec les colonnes `qid`, `docno` et `score`.\n",
    "\n",
    "**Remarque** : Il peut ainsi y avoir plusieurs lignes pour une même question, si plusieurs articles sont pertinents (ce qui est souvent le cas)"
   ]
  },
  {
   "cell_type": "code",
   "metadata": {
    "id": "YO2MNgvumCbr",
    "ExecuteTime": {
     "end_time": "2024-09-05T19:55:27.651799Z",
     "start_time": "2024-09-05T19:55:27.626605Z"
    }
   },
   "source": [
    "# Define the retrieval model : for example dummy BM25 and TF-IDF\n",
    "tfidf = pt.BatchRetrieve(index, wmodel=\"TF_IDF\", properties={\"c\": 1.0})\n",
    "bm25 = pt.BatchRetrieve(index, wmodel=\"BM25\",  properties={\"c\": 1.0, \"bm25.k_1\": 1, \"bm25.b\": 0.6})\n",
    "\n",
    "# Run the TF-IDF model and save the results\n",
    "tfidf_results = tfidf.transform(test_queries)\n",
    "tfid_results = tfidf_results[[\"qid\", \"docno\", \"score\"]]\n",
    "tfidf_results.to_csv(\"tfidf_results.csv\", index=False)\n",
    "\n",
    "# Run the BM25 model and save the results\n",
    "bm25_results = bm25.transform(test_queries)\n",
    "bm25_results = bm25_results[[\"qid\", \"docno\", \"score\"]]\n",
    "bm25_results.to_csv(\"bm25_results.csv\", index=False)\n"
   ],
   "outputs": [
    {
     "ename": "NameError",
     "evalue": "name 'index' is not defined",
     "output_type": "error",
     "traceback": [
      "\u001B[1;31m---------------------------------------------------------------------------\u001B[0m",
      "\u001B[1;31mNameError\u001B[0m                                 Traceback (most recent call last)",
      "Cell \u001B[1;32mIn[12], line 2\u001B[0m\n\u001B[0;32m      1\u001B[0m \u001B[38;5;66;03m# Define the retrieval model : for example dummy BM25 and TF-IDF\u001B[39;00m\n\u001B[1;32m----> 2\u001B[0m tfidf \u001B[38;5;241m=\u001B[39m pt\u001B[38;5;241m.\u001B[39mBatchRetrieve(\u001B[43mindex\u001B[49m, wmodel\u001B[38;5;241m=\u001B[39m\u001B[38;5;124m\"\u001B[39m\u001B[38;5;124mTF_IDF\u001B[39m\u001B[38;5;124m\"\u001B[39m, properties\u001B[38;5;241m=\u001B[39m{\u001B[38;5;124m\"\u001B[39m\u001B[38;5;124mc\u001B[39m\u001B[38;5;124m\"\u001B[39m: \u001B[38;5;241m1.0\u001B[39m})\n\u001B[0;32m      3\u001B[0m bm25 \u001B[38;5;241m=\u001B[39m pt\u001B[38;5;241m.\u001B[39mBatchRetrieve(index, wmodel\u001B[38;5;241m=\u001B[39m\u001B[38;5;124m\"\u001B[39m\u001B[38;5;124mBM25\u001B[39m\u001B[38;5;124m\"\u001B[39m,  properties\u001B[38;5;241m=\u001B[39m{\u001B[38;5;124m\"\u001B[39m\u001B[38;5;124mc\u001B[39m\u001B[38;5;124m\"\u001B[39m: \u001B[38;5;241m1.0\u001B[39m, \u001B[38;5;124m\"\u001B[39m\u001B[38;5;124mbm25.k_1\u001B[39m\u001B[38;5;124m\"\u001B[39m: \u001B[38;5;241m1\u001B[39m, \u001B[38;5;124m\"\u001B[39m\u001B[38;5;124mbm25.b\u001B[39m\u001B[38;5;124m\"\u001B[39m: \u001B[38;5;241m0.6\u001B[39m})\n\u001B[0;32m      5\u001B[0m \u001B[38;5;66;03m# Run the TF-IDF model and save the results\u001B[39;00m\n",
      "\u001B[1;31mNameError\u001B[0m: name 'index' is not defined"
     ]
    }
   ],
   "execution_count": 12
  },
  {
   "cell_type": "code",
   "execution_count": null,
   "metadata": {
    "id": "GadMEcjJmCbr",
    "colab": {
     "base_uri": "https://localhost:8080/"
    },
    "outputId": "18537fba-5b8a-4f5a-f188-4666b36c988d"
   },
   "outputs": [
    {
     "output_type": "stream",
     "name": "stdout",
     "text": [
      "     name  recall_1  recall_5  recall_10     RR@10     AP@10  recall_100  \\\n",
      "0  TF-IDF       0.0       0.0   0.000751  0.000751  0.000125    0.010103   \n",
      "1    BM25       0.0       0.0   0.000000  0.000000  0.000000    0.006042   \n",
      "\n",
      "   recall_200  recall_500       map      ndcg    RR@100  nDCG@100    AP@100  \n",
      "0    0.018233    0.041715  0.000445  0.012226  0.001147  0.002751  0.000262  \n",
      "1    0.014570    0.035043  0.000343  0.013084  0.000790  0.001952  0.000144  \n"
     ]
    }
   ],
   "source": [
    "# Define the evaluation metrics\n",
    "eval_metrics = [\"recall_1\", \"recall_5\", \"recall_10\", RR@10, AP@10, \"recall_100\", \"recall_200\", \"recall_500\", \"map\", \"ndcg\", RR@100, nDCG@100, AP@100]\n",
    "\n",
    "# Load the results\n",
    "tfidf_results = pd.read_csv(\"tfidf_results.csv\")\n",
    "bm25_results = pd.read_csv(\"bm25_results.csv\")\n",
    "\n",
    "# Evaluate the models\n",
    "result = pt.Experiment(\n",
    "    [tfidf_results, bm25_results],\n",
    "    test_queries,\n",
    "    qrels,\n",
    "    eval_metrics,\n",
    "    names=['TF-IDF', \"BM25\"],\n",
    ")\n",
    "\n",
    "print(result)\n"
   ]
  },
  {
   "cell_type": "markdown",
   "source": [
    "## Embeddings des articles et des questions d'entrainements"
   ],
   "metadata": {
    "id": "Oc4sXO-eCFlv"
   }
  },
  {
   "cell_type": "code",
   "source": [
    "from transformers import CamembertTokenizer, CamembertModel\n",
    "\n",
    "tokenizer = CamembertTokenizer.from_pretrained('camembert-base')\n",
    "model = CamembertModel.from_pretrained('camembert-base')\n",
    "\n"
   ],
   "metadata": {
    "colab": {
     "base_uri": "https://localhost:8080/",
     "height": 231,
     "referenced_widgets": [
      "cb7dd0ec02824103b957f0d4c947031c",
      "a397b59640354922bc7ad237c5c0e276",
      "56e9e117012e4527a58f158d355a5344",
      "1416c7a3945e40f99913dcf33b9ff678",
      "96500b05b9d74b93b5b811a976ce7545",
      "bb01fbb759754937ad26312c2e5d6c4d",
      "91cbb9195d1549b68698817a9ff9f86b",
      "5a65dee8fb2b491e982f5bcfcaafc972",
      "9346391f31c444b786fba3682d1b3fc8",
      "23b05b2a94e041fe85dcc9fc94b79915",
      "eed6092d44944cab8357edbb5bd635b2",
      "7a5217a537014e96b9a8d889f6512126",
      "2f8aee76b27448c7ae3841a476293476",
      "5627e1725f9f4898b38d9f33ee4042cc",
      "e6627f6ff0ea4f58911c61a994b4445d",
      "5b7aa29b8d714566afaf5ec2e3695b9b",
      "28a6334110a04d46b80e46cb5606577f",
      "282a75ab86a64511981f8914de5e7092",
      "05f950c786614dc296d0e0a6d030824b",
      "d49fe07c357240fab1684227e5b0ccbe",
      "a96b2d181ed146d2875237b7add9a011",
      "406d7701418c49e4b6d1cdd2d9f68d14",
      "787639037f734a62bdfb801142e39b90",
      "ff374392586c432aa0ecdae482ed65cc",
      "ee937229d4414dc1a56a311663300930",
      "ad880c6709ab4d779b2359870cec9243",
      "4d015425043c4dca8fea1482c65bda69",
      "4ab5ae5198dc4071994c82a8024dee2f",
      "326b049e9f064aa2b939156a2b2b54b3",
      "4c32a524dcb24237b67d9d43ebce0df8",
      "fb35358f992948b6b21734246bca299e",
      "6ed9a5a64bc649129a13ea6d74a54650",
      "d304ccb5635040748d1def5f5171c5a8",
      "5509f401178c40f997ff848ec14fd80c",
      "f5ca3c044806494188377661a1ac7c23",
      "4d62bc29734c426a9fee534c8000e86d",
      "a33711ebffd6492ab8c8ca5d8fc94246",
      "3fc4655f1f0644a49022d72deb5afe2e",
      "fe3c7d7b09ba4a4ca77a64ac52bd9aed",
      "1679d6b01e2447768ae63912967429dd",
      "d3cd76f7c2504c118431bc758d8690ec",
      "9931f37e734a46c7bc836801d553cb23",
      "0219b06f94804c869d43e45fce06b4e5",
      "828c06372560418db7e1be6f9e3e354e",
      "38fc1d111a114a88818430479ab307a0",
      "56069de1af0a4837916e3eb443c22b8f",
      "419be5d5f6d34210a97e242fd96bb932",
      "e05d4cef63cf4ab3a237ffcf20301523",
      "3a23c984fcab4774b4295183e8bd7f80",
      "5e0b4eb08fd449d1962b2188ef78b778",
      "95b45358155b40eead09da123ecae8a0",
      "6c070470b6c7492ea62a14b1f31058bc",
      "cd0ed5970fd142c79b99ceaa045f832d",
      "7b6d8d369d1146a187235a52d3a3e16b",
      "7ffb0e7c160249a5aca8623e8794145b"
     ]
    },
    "id": "M8S9llbioPKv",
    "outputId": "adf9830c-bc36-4e3f-e674-399236dfc71f",
    "ExecuteTime": {
     "end_time": "2024-09-05T20:20:25.493643Z",
     "start_time": "2024-09-05T20:20:24.104008Z"
    }
   },
   "outputs": [
    {
     "name": "stderr",
     "output_type": "stream",
     "text": [
      "C:\\Users\\Gaspard.BEAUDOUIN\\Jemi\\.venv\\Lib\\site-packages\\transformers\\tokenization_utils_base.py:1601: FutureWarning: `clean_up_tokenization_spaces` was not set. It will be set to `True` by default. This behavior will be depracted in transformers v4.45, and will be then set to `False` by default. For more details check this issue: https://github.com/huggingface/transformers/issues/31884\n",
      "  warnings.warn(\n"
     ]
    }
   ],
   "execution_count": 6
  },
  {
   "cell_type": "code",
   "source": [
    "# Pour utilisation sur un GPU si disponible\n",
    "device = torch.device(\"cuda\" if torch.cuda.is_available() else \"cpu\")\n",
    "model = model.to(device)"
   ],
   "metadata": {
    "id": "4dGiIiY8HNbL",
    "ExecuteTime": {
     "end_time": "2024-09-05T20:20:31.276757Z",
     "start_time": "2024-09-05T20:20:29.155986Z"
    }
   },
   "outputs": [],
   "execution_count": 7
  },
  {
   "metadata": {
    "ExecuteTime": {
     "end_time": "2024-09-05T20:20:32.028055Z",
     "start_time": "2024-09-05T20:20:32.015563Z"
    }
   },
   "cell_type": "code",
   "source": "torch.cuda.is_available()",
   "outputs": [
    {
     "data": {
      "text/plain": [
       "True"
      ]
     },
     "execution_count": 8,
     "metadata": {},
     "output_type": "execute_result"
    }
   ],
   "execution_count": 8
  },
  {
   "cell_type": "code",
   "source": [
    "from tqdm import tqdm\n",
    "import numpy as np"
   ],
   "metadata": {
    "id": "Y5sS72oYHLnK",
    "ExecuteTime": {
     "end_time": "2024-09-05T20:30:44.542470Z",
     "start_time": "2024-09-05T20:30:44.533609Z"
    }
   },
   "outputs": [],
   "execution_count": 15
  },
  {
   "cell_type": "code",
   "source": [
    "# Chargement du fichier CSV\n",
    "def load_data(file_path):\n",
    "    df = pd.read_csv(file_path)\n",
    "    df['subsection'] = df['subsection'].fillna('') \n",
    "    df['description']=df['description'].fillna('')\n",
    "    df['article']=df['article'].fillna('')# Remplir les valeurs manquantes par une chaîne vide\n",
    "    df['combined_text'] = df['article'] + ' ' + df['description'] + ' ' + df['subsection']\n",
    "    return df\n",
    "\n",
    "# Fonction pour obtenir l'embedding d'un texte\n",
    "def get_embedding(text, tokenizer, model, device):\n",
    "    inputs = tokenizer(text, return_tensors='pt', truncation=True, padding=True, max_length=512)\n",
    "    inputs = {k: v.to(device) for k, v in inputs.items()}\n",
    "    \n",
    "    with torch.no_grad():\n",
    "        outputs = model(**inputs)\n",
    "    \n",
    "    # Moyenne des embeddings de tous les tokens pour obtenir une représentation de la séquence entière\n",
    "    embedding = outputs.last_hidden_state.mean(dim=1).cpu().numpy()\n",
    "    return embedding.flatten()\n",
    "\n",
    "# Calcul des embeddings pour tout le DataFrame avec suivi de la progression\n",
    "def compute_embeddings(df, tokenizer, model, device):\n",
    "    embeddings = []\n",
    "    for text in tqdm(df['combined_text'], desc=\"Calcul des embeddings\"):\n",
    "        embedding = get_embedding(text, tokenizer, model, device)\n",
    "        embeddings.append(embedding)\n",
    "    df['embedding'] = embeddings\n",
    "    return df\n",
    "\n",
    "# Sauvegarde des embeddings dans un nouveau DataFrame et un fichier CSV dans le répertoire de travail de Kaggle\n",
    "def save_embeddings_to_csv(df, output_path):\n",
    "    # Créer un nouveau DataFrame avec l'ID des articles et leurs embeddings\n",
    "    new_df = pd.DataFrame({\n",
    "        'id': df['id'],\n",
    "        'embedding': df['embedding'].apply(lambda x: ','.join(map(str, x.tolist())))\n",
    "    })\n",
    "    \n",
    "    # Sauvegarder le nouveau DataFrame dans un fichier CSV dans le répertoire de travail de Kaggle\n",
    "    new_df.to_csv(output_path, index=False)\n",
    "\n",
    "    # Retourner le nouveau DataFrame avec les embeddings\n",
    "    return new_df\n",
    "\n",
    "# Pipeline principal\n",
    "def main(file_path, output_path_csv):\n",
    "    # Charger les données\n",
    "    df = load_data(file_path)\n",
    "    \n",
    "    # Calculer les embeddings\n",
    "    df = compute_embeddings(df, tokenizer, model, device)\n",
    "    \n",
    "    # Sauvegarder le nouveau DataFrame avec uniquement 'id' et 'embedding' dans un fichier CSV\n",
    "    new_df_with_embeddings = save_embeddings_to_csv(df, output_path_csv)\n",
    "    \n",
    "    # Confirmation de la sauvegarde\n",
    "    print(f\"Fichier CSV sauvegardé dans : {output_path_csv}\")\n",
    "    \n",
    "    return new_df_with_embeddings"
   ],
   "metadata": {
    "id": "dmatRfgnHIeJ",
    "ExecuteTime": {
     "end_time": "2024-09-05T20:33:59.092252Z",
     "start_time": "2024-09-05T20:33:59.080514Z"
    }
   },
   "outputs": [],
   "execution_count": 19
  },
  {
   "cell_type": "code",
   "source": [
    "file_path = 'data/articles.csv'  # Chemin vers votre fichier CSV d'articles\n",
    "output_path_csv = 'data/embeddings.csv'  # Chemin de sortie pour le fichier CSV des embeddings\n",
    "\n",
    "# Appeler la fonction principale pour calculer et sauvegarder les embeddings\n",
    "new_df_with_embeddings = main(file_path, output_path_csv)"
   ],
   "metadata": {
    "colab": {
     "base_uri": "https://localhost:8080/",
     "height": 365,
     "referenced_widgets": [
      "2358b3061f854e818fd30824c7fa626e",
      "d49e421f32bc4fbdbc828233b8d508a3",
      "69eaf3afc2254bd7bd5054f5a7f5e847",
      "3d1df691726a4821a4179307bc804a9f",
      "412712213eaa4645bb63cfc22657f739",
      "481276f3889b4fa6be0d7391f3646220",
      "1f8102b6153a440c9948f90ee4cf877b",
      "ce19ee930880465c882341e8c04b0e6c",
      "2695b29b296343e08bd1f308c51686e1",
      "cf044170d29e45dcb9ab9e90bd38512e",
      "22af321c727446fe8d4453fd00762b72"
     ]
    },
    "id": "X9gnRuFdHlRk",
    "outputId": "bdb11129-f11e-4a94-f8a0-f26551cdacca",
    "ExecuteTime": {
     "end_time": "2024-09-05T20:39:26.102861Z",
     "start_time": "2024-09-05T20:33:59.431837Z"
    }
   },
   "outputs": [
    {
     "name": "stderr",
     "output_type": "stream",
     "text": [
      "Calcul des embeddings: 100%|██████████| 22633/22633 [05:16<00:00, 71.62it/s] \n"
     ]
    },
    {
     "name": "stdout",
     "output_type": "stream",
     "text": [
      "Fichier CSV sauvegardé dans : embeddings.csv\n"
     ]
    }
   ],
   "execution_count": 20
  },
  {
   "cell_type": "code",
   "source": [
    "print(embeddings.shape)\n",
    "print(df_articles.shape)"
   ],
   "metadata": {
    "colab": {
     "base_uri": "https://localhost:8080/"
    },
    "id": "XbRnkkpiXJMb",
    "outputId": "5a1e826f-4707-4e23-871f-31e06a2120bb"
   },
   "execution_count": null,
   "outputs": [
    {
     "output_type": "stream",
     "name": "stdout",
     "text": [
      "torch.Size([21018, 1, 768])\n",
      "(22633, 13)\n"
     ]
    }
   ]
  },
  {
   "cell_type": "markdown",
   "source": [
    "#### Nouvelle tentative de l'embedding des articles"
   ],
   "metadata": {
    "id": "WbQjzyPHopVI"
   }
  },
  {
   "metadata": {
    "ExecuteTime": {
     "end_time": "2024-09-05T20:44:40.600245Z",
     "start_time": "2024-09-05T20:44:38.777163Z"
    }
   },
   "cell_type": "code",
   "source": "from sklearn.metrics.pairwise import cosine_similarity\n",
   "outputs": [],
   "execution_count": 21
  },
  {
   "cell_type": "markdown",
   "source": [
    "Approche naive avec la similarité cosinus"
   ],
   "metadata": {
    "id": "ya7Knd2FsUQB"
   }
  },
  {
   "cell_type": "code",
   "source": [
    "# Générer des embeddings pour quelques questions et articles\n",
    "question_embeddings = get_embedding(df_test['question'].iloc[3], tokenizer, model, device)\n",
    "print(type(question_embeddings))\n"
   ],
   "metadata": {
    "colab": {
     "base_uri": "https://localhost:8080/"
    },
    "id": "OazPhPIQrplB",
    "outputId": "8f649887-dbb6-4b60-a458-4d11eba501be",
    "ExecuteTime": {
     "end_time": "2024-09-05T20:46:01.637835Z",
     "start_time": "2024-09-05T20:46:01.595111Z"
    }
   },
   "outputs": [
    {
     "name": "stdout",
     "output_type": "stream",
     "text": [
      "<class 'numpy.ndarray'>\n"
     ]
    }
   ],
   "execution_count": 29
  },
  {
   "metadata": {
    "ExecuteTime": {
     "end_time": "2024-09-05T20:56:30.300510Z",
     "start_time": "2024-09-05T20:56:22.208198Z"
    }
   },
   "cell_type": "code",
   "source": [
    "# Charger les embeddings des articles depuis le fichier CSV\n",
    "articles_embeddings_df = pd.read_csv('data/embeddings.csv')\n",
    "\n",
    "# Convertir les embeddings sous forme de numpy array\n",
    "articles_embeddings_df['embedding'] = articles_embeddings_df['embedding'].apply(\n",
    "    lambda x: np.fromstring(x[1:-1], sep=',')\n",
    ")\n",
    "articles_embeddings = np.vstack(articles_embeddings_df['embedding'].values)\n",
    "\n",
    "# Fonction pour obtenir l'embedding d'une question\n",
    "def get_embedding(text, tokenizer, model, device):\n",
    "    inputs = tokenizer(text, return_tensors='pt', truncation=True, padding=True, max_length=512)\n",
    "    inputs = {k: v.to(device) for k, v in inputs.items()}\n",
    "    \n",
    "    with torch.no_grad():\n",
    "        outputs = model(**inputs)\n",
    "    \n",
    "    # Moyenne des embeddings de tous les tokens pour obtenir une représentation de la séquence entière\n",
    "    embedding = outputs.last_hidden_state.mean(dim=1).cpu().numpy()\n",
    "    return embedding.flatten()\n",
    "\n",
    "# Calculer la similarité cosinus\n",
    "def find_top_k_nearest_neighbors(articles_embeddings, question_embedding, k=5):\n",
    "    # Calculer la similarité cosinus entre les embeddings des articles et l'embedding de la question\n",
    "    similarities = cosine_similarity(articles_embeddings, question_embedding.reshape(1, -1)).flatten()\n",
    "\n",
    "    # Trouver les indices des k articles les plus proches\n",
    "    top_k_indices = similarities.argsort()[-k:][::-1]\n",
    "\n",
    "    return top_k_indices, similarities[top_k_indices]\n",
    "\n",
    "# Pipeline pour trouver les articles les plus proches\n",
    "def find_closest_articles(articles_embeddings_df, question, tokenizer, model, device, k=5):\n",
    "    # Calculer l'embedding pour la question spécifique\n",
    "    question_embedding = get_embedding(question, tokenizer, model, device)\n",
    "\n",
    "    # Trouver les 5 articles les plus proches de la question\n",
    "    top_k_indices, similarities = find_top_k_nearest_neighbors(articles_embeddings, question_embedding, k)\n",
    "\n",
    "    # Extraire les articles les plus proches\n",
    "    closest_articles = articles_embeddings_df.iloc[top_k_indices]\n",
    "\n",
    "    return closest_articles, similarities\n"
   ],
   "outputs": [],
   "execution_count": 30
  },
  {
   "metadata": {
    "ExecuteTime": {
     "end_time": "2024-09-05T21:00:05.050265Z",
     "start_time": "2024-09-05T21:00:04.938387Z"
    }
   },
   "cell_type": "code",
   "source": [
    "question = df_test['question'].iloc[10]\n",
    "\n",
    "# Trouver les 5 articles les plus proches de cette question\n",
    "closest_articles, similarities = find_closest_articles(articles_embeddings_df, question, tokenizer, model, device, k=10)\n",
    "\n",
    "# Afficher les articles les plus proches avec leurs similarités\n",
    "for i, (similarity, article) in enumerate(zip(similarities, closest_articles.itertuples()), 1):\n",
    "    print(f\"Article {i}: ID = {article.id}, Similarité = {similarity}\")\n",
    "\n"
   ],
   "outputs": [
    {
     "name": "stdout",
     "output_type": "stream",
     "text": [
      "Article 1: ID = 6761, Similarité = 0.919247901905167\n",
      "Article 2: ID = 562, Similarité = 0.9176364318344205\n",
      "Article 3: ID = 6774, Similarité = 0.9149302343814337\n",
      "Article 4: ID = 3097, Similarité = 0.9118783561792776\n",
      "Article 5: ID = 3117, Similarité = 0.9115224428066805\n",
      "Article 6: ID = 6773, Similarité = 0.9103698353468617\n",
      "Article 7: ID = 15493, Similarité = 0.9102208099508795\n",
      "Article 8: ID = 5631, Similarité = 0.9101202592654821\n",
      "Article 9: ID = 7216, Similarité = 0.9094317062420386\n",
      "Article 10: ID = 5760, Similarité = 0.9088537012664306\n"
     ]
    }
   ],
   "execution_count": 39
  },
  {
   "metadata": {
    "ExecuteTime": {
     "end_time": "2024-09-05T21:00:06.669343Z",
     "start_time": "2024-09-05T21:00:06.651832Z"
    }
   },
   "cell_type": "code",
   "source": "print(df_test.iloc[10]['article_ids'])",
   "outputs": [
    {
     "name": "stdout",
     "output_type": "stream",
     "text": [
      "6163,6164,6165,6928,6935,6936\n"
     ]
    }
   ],
   "execution_count": 40
  },
  {
   "metadata": {},
   "cell_type": "code",
   "outputs": [],
   "execution_count": null,
   "source": [
    "# Afficher les articles les plus proches avec leurs similarités\n",
    "for i, (similarity, article) in enumerate(zip(similarities, closest_articles.itertuples()), 1):\n",
    "    print(f\"Article {i}: ID = {article.id}, Similarité = {similarity}\")\n"
   ]
  },
  {
   "metadata": {},
   "cell_type": "code",
   "outputs": [],
   "execution_count": null,
   "source": [
    "# Calculer la similarité cosinus\n",
    "def find_top_k_nearest_neighbors(articles_embeddings, question_embedding, k=5):\n",
    "    # Calculer la similarité cosinus entre les embeddings des articles et l'embedding de la question\n",
    "    similarities = cosine_similarity(articles_embeddings, question_embedding.reshape(1, -1)).flatten()\n",
    "\n",
    "    # Trouver les indices des k articles les plus proches\n",
    "    top_k_indices = similarities.argsort()[-k:][::-1]\n",
    "\n",
    "    return top_k_indices, similarities[top_k_indices]\n",
    "\n",
    "# Pipeline pour trouver les articles les plus proches\n",
    "def find_closest_articles(df_articles, df_test, tokenizer, model, device, k=5):\n",
    "    # Embedding pour la question spécifique\n",
    "    question_embedding = get_embedding(df_test['question'].iloc[0], tokenizer, model, device)  # Embedding de la question\n",
    "\n",
    "    # Extraire les embeddings des articles déjà calculés\n",
    "    articles_embeddings = np.vstack(df_articles['embedding'].values)\n",
    "\n",
    "    # Trouver les 5 articles les plus proches de la question\n",
    "    top_k_indices, similarities = find_top_k_nearest_neighbors(articles_embeddings, question_embedding, k)\n",
    "\n",
    "    # Extraire les articles les plus proches\n",
    "    closest_articles = df_articles.iloc[top_k_indices]\n",
    "\n",
    "    return closest_articles, similarities"
   ]
  },
  {
   "metadata": {},
   "cell_type": "code",
   "outputs": [],
   "execution_count": null,
   "source": [
    "file_path_articles = 'data/articles.csv'  # Chemin vers le fichier CSV d'articles\n",
    "file_path_test = 'data/test.csv'  # Chemin vers le fichier CSV contenant la question dans df_test\n",
    "\n",
    "# Charger les articles et calculer les embeddings\n",
    "df_articles = load_data(file_path_articles)\n",
    "df_articles = compute_embeddings(df_articles, tokenizer, model, device)\n",
    "\n",
    "# Charger le fichier de test avec la question\n",
    "df_test = pd.read_csv(file_path_test)\n",
    "\n",
    "# Trouver les 5 articles les plus proches de la question\n",
    "closest_articles, similarities = find_closest_articles(df_articles, df_test, tokenizer, model, device, k=5)\n",
    "\n",
    "# Afficher les articles les plus proches avec leurs similarités\n",
    "for i, (index, similarity) in enumerate(zip(closest_articles.index, similarities)):\n",
    "    print(f\"Article {i+1}: ID = {df_articles.iloc[index]['id']}, Similarité = {similarity}\")"
   ]
  },
  {
   "metadata": {},
   "cell_type": "code",
   "outputs": [],
   "execution_count": null,
   "source": [
    "\n",
    "# Supprimez la dimension inutile de taille 1 pour les deux ensembles d'embeddings\n",
    "#question_embedding_np = question_embeddings.squeeze().numpy()\n",
    "#article_embeddings_np = articles_embeddings.squeeze().numpy()\n",
    "\n",
    "# Maintenant, calculez la similarité cosinus comme prévu\n",
    "similarities = cosine_similarity(question_embedding_np.reshape(1, -1), article_embeddings_np)\n",
    "\n",
    "# Le reste de votre code pour récupérer les top 5 articles peut rester le même\n",
    "top5_idx = np.argsort(similarities[0])[-5:]\n",
    "top5_articles_ids = df_articles.iloc[top5_idx]['id'].values\n",
    "\n",
    "print(\"Top 5 des articles les plus similaires :\", [top5_articles_ids[i]+5400 for i in range(len(top5_articles_ids))])\n",
    "# devrait etre 5562"
   ]
  },
  {
   "cell_type": "code",
   "source": [
    "print(all_train_embeddings.shape)\n",
    "print(df_train.shape)\n",
    "\n",
    "\n",
    "final_embeddings_path = os.path.join(save_dir, 'all_train_embeddings.pt')\n",
    "torch.save(all_train_embeddings, final_embeddings_path)\n",
    "print(f'Tous les embeddings ont été regroupés et sauvegardés dans {final_embeddings_path}')\n",
    "\n"
   ],
   "metadata": {
    "colab": {
     "base_uri": "https://localhost:8080/"
    },
    "id": "lvDLDF4Epr_m",
    "outputId": "729edb9a-44d0-4551-cc9d-64ad43a60e92"
   },
   "execution_count": null,
   "outputs": [
    {
     "output_type": "stream",
     "name": "stdout",
     "text": [
      "torch.Size([886, 768])\n",
      "(886, 6)\n",
      "Tous les embeddings ont été regroupés et sauvegardés dans /content/drive/My Drive/Jimini/article_embeddings/all_train_embeddings.pt\n"
     ]
    }
   ]
  },
  {
   "cell_type": "markdown",
   "source": [
    "## Chargement des embeddings et données"
   ],
   "metadata": {
    "id": "hWfjdHyFs-1y"
   }
  },
  {
   "cell_type": "code",
   "source": [
    "all_train_embeddings=torch.load('/content/drive/My Drive/Jimini/article_embeddings/all_train_embeddings.pt' )\n",
    "all_article_embeddings=torch.load('/content/drive/My Drive/Jimini/article_embeddings/all_article_embeddings.pt' )"
   ],
   "metadata": {
    "id": "m7kIyCEd5k1-",
    "colab": {
     "base_uri": "https://localhost:8080/"
    },
    "outputId": "9c00e66a-dd5d-42b0-f3fd-3a6b2f586bac"
   },
   "execution_count": null,
   "outputs": [
    {
     "output_type": "stream",
     "name": "stderr",
     "text": [
      "<ipython-input-55-62ca7870e63b>:1: FutureWarning: You are using `torch.load` with `weights_only=False` (the current default value), which uses the default pickle module implicitly. It is possible to construct malicious pickle data which will execute arbitrary code during unpickling (See https://github.com/pytorch/pytorch/blob/main/SECURITY.md#untrusted-models for more details). In a future release, the default value for `weights_only` will be flipped to `True`. This limits the functions that could be executed during unpickling. Arbitrary objects will no longer be allowed to be loaded via this mode unless they are explicitly allowlisted by the user via `torch.serialization.add_safe_globals`. We recommend you start setting `weights_only=True` for any use case where you don't have full control of the loaded file. Please open an issue on GitHub for any issues related to this experimental feature.\n",
      "  all_train_embeddings=torch.load('/content/drive/My Drive/Jimini/article_embeddings/all_train_embeddings.pt' )\n",
      "<ipython-input-55-62ca7870e63b>:2: FutureWarning: You are using `torch.load` with `weights_only=False` (the current default value), which uses the default pickle module implicitly. It is possible to construct malicious pickle data which will execute arbitrary code during unpickling (See https://github.com/pytorch/pytorch/blob/main/SECURITY.md#untrusted-models for more details). In a future release, the default value for `weights_only` will be flipped to `True`. This limits the functions that could be executed during unpickling. Arbitrary objects will no longer be allowed to be loaded via this mode unless they are explicitly allowlisted by the user via `torch.serialization.add_safe_globals`. We recommend you start setting `weights_only=True` for any use case where you don't have full control of the loaded file. Please open an issue on GitHub for any issues related to this experimental feature.\n",
      "  all_article_embeddings=torch.load('/content/drive/My Drive/Jimini/article_embeddings/all_article_embeddings.pt' )\n"
     ]
    }
   ]
  },
  {
   "cell_type": "code",
   "source": [
    "import json\n",
    "\n",
    "# Remplacez 'path_to_your_file.json' par le chemin réel de votre fichier JSON\n",
    "#with open('negatives_bm25_negatives_train.json', 'r') as f:\n",
    "#    negative_map = json.load(f)\n",
    "\n",
    "negative_map = {int(k): v for k, v in df_neg.items()}\n",
    "\n",
    "positive_map = {int(row['id']): [int(article_id.strip()) for article_id in str(row['article_ids']).split(',')] for _, row in df_train.iterrows()}\n",
    "\n"
   ],
   "metadata": {
    "id": "bcx-6O2wzrxd"
   },
   "execution_count": null,
   "outputs": []
  },
  {
   "cell_type": "code",
   "source": [
    "print(all_article_embeddings.shape)\n",
    "print(df_articles.shape)"
   ],
   "metadata": {
    "colab": {
     "base_uri": "https://localhost:8080/"
    },
    "id": "b-X5firOTjeQ",
    "outputId": "655a33cd-4f07-4979-a3d4-f3d5ad864cae"
   },
   "execution_count": null,
   "outputs": [
    {
     "output_type": "stream",
     "name": "stdout",
     "text": [
      "torch.Size([21018, 1, 768])\n",
      "(22633, 13)\n"
     ]
    }
   ]
  },
  {
   "cell_type": "markdown",
   "source": [
    "## Optimisation et entrainement"
   ],
   "metadata": {
    "id": "hZl5z8xgB_R3"
   }
  },
  {
   "cell_type": "code",
   "source": [
    "import random\n",
    "from torch.utils.data import Dataset, DataLoader\n",
    "\n",
    "class QuestionArticleDataset(Dataset):\n",
    "    def __init__(self, questions, articles, positive_map, negative_map):\n",
    "        self.questions = questions\n",
    "        self.articles = articles\n",
    "        # S'assurer que seules les clés présentes à la fois dans positive_map et negative_map sont utilisées\n",
    "        self.keys = [key for key in positive_map.keys() if key in negative_map]\n",
    "        self.positive_map = positive_map\n",
    "        self.negative_map = negative_map\n",
    "\n",
    "    def __len__(self):\n",
    "        # Utiliser la longueur de self.keys pour déterminer le nombre d'éléments dans le Dataset\n",
    "        return len(self.keys)\n",
    "\n",
    "    def __getitem__(self, idx):\n",
    "        # Utiliser self.keys[idx] pour obtenir l'ID de la question actuelle\n",
    "        question_id = self.keys[idx]\n",
    "\n",
    "        # Utiliser question_id pour accéder à positive_map et negative_map\n",
    "        q_embedding = self.questions[idx]\n",
    "        a_pos_index = random.choice(self.positive_map[question_id])  # Choix aléatoire d'un article positif\n",
    "        a_neg_index = random.choice(self.negative_map[question_id])  # Choix aléatoire d'un article négatif\n",
    "\n",
    "        a_pos_embedding = self.articles[a_pos_index]\n",
    "        a_neg_embedding = self.articles[a_neg_index]\n",
    "\n",
    "        return q_embedding, a_pos_embedding, a_neg_embedding\n",
    "\n",
    "questions_embeddings = all_train_embeddings\n",
    "articles_embeddings = all_article_embeddings\n",
    "positive_map = positive_map\n",
    "negative_map = negative_map\n",
    "\n",
    "# Initialiser le Dataset\n",
    "dataset = QuestionArticleDataset(questions_embeddings, articles_embeddings, positive_map, negative_map)\n",
    "\n",
    "# Créer un DataLoader\n",
    "data_loader = DataLoader(dataset, batch_size=32, shuffle=True)"
   ],
   "metadata": {
    "id": "8FcRoeijIpOx"
   },
   "execution_count": null,
   "outputs": []
  },
  {
   "cell_type": "markdown",
   "source": [],
   "metadata": {
    "id": "QjOrlwOO599s"
   }
  },
  {
   "cell_type": "code",
   "source": [
    "\n",
    "import torch.nn as nn\n",
    "import torch.optim as optim\n",
    "\n",
    "class Projector(nn.Module):\n",
    "    def __init__(self, input_dim, proj_dim):\n",
    "        super(Projector, self).__init__()\n",
    "        self.fc = nn.Linear(input_dim, proj_dim)\n",
    "\n",
    "    def forward(self, x):\n",
    "        return self.fc(x)\n",
    "\n",
    "# Initialisation des projecteurs\n",
    "input_dim = 768  # taille de sortie d'un BERT\n",
    "proj_dim = 128 # Dimension souhaitée des embeddings projetés\n",
    "P_q = Projector(input_dim, proj_dim)\n",
    "P_a = Projector(input_dim, proj_dim)\n",
    "num_epochs=10\n",
    "# Fonction de perte et optimiseur\n",
    "margin = 1\n",
    "loss_fn = nn.TripletMarginLoss(margin=margin, p=2) # margin garantit que les exemples similaires sont dans une marge de sécurité\n",
    "optimizer = optim.Adam(list(P_q.parameters()) + list(P_a.parameters()), lr=0.001)\n",
    "\n",
    "# entrainement\n",
    "for epoch in range(num_epochs):\n",
    "    epoch_loss = 0\n",
    "    for q, a_pos, a_neg in data_loader:\n",
    "        optimizer.zero_grad()\n",
    "        q_proj = P_q(q)\n",
    "        a_pos_proj = P_a(a_pos)\n",
    "        a_neg_proj = P_a(a_neg)\n",
    "        loss = loss_fn(q_proj, a_pos_proj, a_neg_proj)\n",
    "        loss.backward()\n",
    "        optimizer.step()\n",
    "        epoch_loss += loss.item()\n",
    "    print(f'Epoch {epoch+1}, Loss: {epoch_loss/len(data_loader)}')\n"
   ],
   "metadata": {
    "id": "QefRGE9R_vkL",
    "colab": {
     "base_uri": "https://localhost:8080/"
    },
    "outputId": "15724945-7b3a-47ee-9160-110768124590"
   },
   "execution_count": null,
   "outputs": [
    {
     "output_type": "stream",
     "name": "stdout",
     "text": [
      "Epoch 1, Loss: 0.8497014088290078\n",
      "Epoch 2, Loss: 0.6886797706995692\n",
      "Epoch 3, Loss: 0.6008915188057082\n",
      "Epoch 4, Loss: 0.5715664880616325\n",
      "Epoch 5, Loss: 0.5482889626707349\n",
      "Epoch 6, Loss: 0.513806477189064\n",
      "Epoch 7, Loss: 0.4958223540868078\n",
      "Epoch 8, Loss: 0.457973803792681\n",
      "Epoch 9, Loss: 0.4020880439451763\n",
      "Epoch 10, Loss: 0.3865130660789354\n"
     ]
    }
   ]
  },
  {
   "cell_type": "code",
   "source": [
    "save_path = '/content/drive/My Drive/Jimini/article_embeddings/P_q_projector_ex.pth'\n",
    "\n",
    "# Enregistrement du modèle\n",
    "torch.save(P_q.state_dict(), save_path)"
   ],
   "metadata": {
    "id": "nSDiVWb6DABv"
   },
   "execution_count": null,
   "outputs": []
  },
  {
   "cell_type": "code",
   "source": [
    "P_a.eval()\n",
    "\n",
    "# Appliquez P_a à tous les embeddings\n",
    "with torch.no_grad():\n",
    "    projected_articles = P_a(all_article_embeddings)\n",
    "\n",
    "# Chemin pour sauvegarder les embeddings projetés sur Google Drive\n",
    "projected_embeddings_path = os.path.join('/content/drive/My Drive/Jimini/article_embeddings', 'all_projected_article_embeddings_ex.pt')\n",
    "\n",
    "# Sauvegarder sur Google Drive\n",
    "torch.save(projected_articles, projected_embeddings_path)\n",
    "print(f'Les embeddings projetés ont été sauvegardés dans {projected_embeddings_path}')\n"
   ],
   "metadata": {
    "id": "0G906kdXDyNG",
    "colab": {
     "base_uri": "https://localhost:8080/"
    },
    "outputId": "28afd5da-b054-452f-fc6b-13b72105e353"
   },
   "execution_count": null,
   "outputs": [
    {
     "output_type": "stream",
     "name": "stdout",
     "text": [
      "Les embeddings projetés ont été sauvegardés dans /content/drive/My Drive/Jimini/article_embeddings/all_projected_article_embeddings_ex.pt\n"
     ]
    }
   ]
  },
  {
   "cell_type": "markdown",
   "source": [
    "## Trouver l'article correpondant"
   ],
   "metadata": {
    "id": "KCgWAaS01SjE"
   }
  },
  {
   "cell_type": "markdown",
   "source": [
    "charger les articles projettés et le projecteur de question"
   ],
   "metadata": {
    "id": "g7nL1JCnxHcB"
   }
  },
  {
   "cell_type": "code",
   "source": [
    "# Création d'une nouvelle instance de projecteur\n",
    "P_q_loaded = Projector(input_dim, proj_dim)\n",
    "\n",
    "# Chargement des paramètres enregistrés\n",
    "P_q_loaded.load_state_dict(torch.load('/content/drive/My Drive/Jimini/article_embeddings/P_q_projector_ex.pth'))\n",
    "\n",
    "# Assurez-vous de passer le modèle en mode évaluation si vous l'utilisez pour des inférences\n",
    "P_q_loaded.eval()\n",
    "\n",
    "projected_articles=torch.load('/content/drive/My Drive/Jimini/article_embeddings/all_projected_article_embeddings_ex.pt')\n",
    "print(projected_articles.shape)"
   ],
   "metadata": {
    "colab": {
     "base_uri": "https://localhost:8080/"
    },
    "id": "rwiRvewvDLLR",
    "outputId": "7de40c47-19f3-419d-dfc0-d5eef77ea58b"
   },
   "execution_count": null,
   "outputs": [
    {
     "output_type": "execute_result",
     "data": {
      "text/plain": [
       "Projector(\n",
       "  (fc): Linear(in_features=768, out_features=128, bias=True)\n",
       ")"
      ]
     },
     "metadata": {},
     "execution_count": 22
    }
   ]
  },
  {
   "cell_type": "code",
   "source": [
    "# Pour une question, trouver le plus proche voisin\n",
    "from scipy.spatial import distance\n",
    "import numpy as np\n",
    "\n",
    "\n",
    "\n",
    "def find_closest_articles(question_text, description, projected_articles, tokenizer, model, projector, n=10):\n",
    "    # Concaténation de la description avec la question\n",
    "    combined_text = description + \" \" + question_text\n",
    "\n",
    "    # Tokenizer le texte combiné\n",
    "    inputs = tokenizer(combined_text, return_tensors=\"pt\", padding=True, truncation=True, max_length=512)\n",
    "\n",
    "    # Obtention des sorties du modèle\n",
    "    with torch.no_grad():\n",
    "        outputs = model(**inputs)\n",
    "\n",
    "    # Utilisation des embeddings du dernier état caché et projeter\n",
    "    embeddings = outputs.last_hidden_state.mean(dim=1)\n",
    "    projected_q = projector(embeddings)\n",
    "\n",
    "    # réduction des dimensions\n",
    "    projected_q = projected_q.detach().squeeze()  # Réduire à un vecteur 1-D\n",
    "\n",
    "    # Calculer les distances\n",
    "    distances = []\n",
    "    for i, projected_a in enumerate(projected_articles):\n",
    "        projected_a = projected_a.squeeze()  # vecteur 1-D\n",
    "        dist = distance.euclidean(projected_q.numpy(), projected_a.numpy())\n",
    "        distances.append((dist, i))\n",
    "\n",
    "    # Trouver les 10 plus petites distances\n",
    "    distances.sort(key=lambda x: x[0])\n",
    "    closest_ids = [distances[i][1] for i in range(n+5)]\n",
    "    closest_dist=[[distances[i][0] for i in range(n+5)]]\n",
    "    return closest_ids, closest_dist\n",
    "\n",
    "\n",
    "\n",
    "\n",
    "# Trouver les IDs des articles les plus proches\n",
    "\n",
    "print (\"TRAIN\")\n",
    "print(\"\\n\")\n",
    "closest_article_ids = find_closest_articles(\"Je suis travailleur salarié(e). Puis-je refuser de faire des heures supplémentaires ou de travailler de nuit ?\", \"Travail et parentalité, pendant la grossese\", projected_articles, tokenizer, model, P_q)\n",
    "print(\"Les IDs des 5 articles les plus proches sont :\", closest_article_ids[0])\n",
    "print(\"devrait être : [22225,22226,22227,22228,22229,22230,22231,22232,22233,22234]\")\n",
    "print(\"\\n\")\n",
    "closest_article_ids = find_closest_articles(\"Je suis marié(e). Nous sommes mariés. Dois-je reconnaître mon enfant ?\", \"Situation de couples; Mariage\", projected_articles, tokenizer, model, P_q)\n",
    "print(\"Les IDs des 5 articles les plus proches sont :\", closest_article_ids[0])\n",
    "print(\"devrait être : [1096,1097,1098,1108,1109,1110]\")\n",
    "print(\"\\n\")\n",
    "closest_article_ids = find_closest_articles(\"Qu'est-ce que le trajet de réintégration ?\", \"Santé et maladie, protection sociale, Reprise d'un travail adapté pendant l'incapacité, Trajet de réintégration\", projected_articles, tokenizer, model, P_q)\n",
    "print(\"Les IDs des 5 articles les plus proches sont :\", closest_article_ids[0])\n",
    "print(\"devrait être : [21114,21115,21116,21117,21118,21119,21120,21121,21122,21123,21124]\")\n",
    "print(\"\\n\")\n",
    "print(\"\\n\")\n",
    "\n",
    "\n",
    "print(\"TEST\")\n",
    "print(\"\\n\")\n",
    "closest_article_ids = find_closest_articles(\"Peut-on me confisquer ou saisir ma voiture si on y trouve du cannabis ?\", \"Argent, dette, Procédures de récupération des dettes, Récupération amiable des dettes\", projected_articles, tokenizer, model, P_q)\n",
    "print(\"Les IDs des 5 articles les plus proches sont :\", closest_article_ids[0])\n",
    "print(\"devrait être : [2041,2119,2138]\")\n",
    "\n",
    "print(\"\\n\")\n",
    "closest_article_ids = find_closest_articles(\"Quels frais peut-on ajouter lors d'un recouvrement amiable ?\", \"justice, Détenir, acheter et vendre du cannabis\", projected_articles, tokenizer, model, P_q)\n",
    "print(\"Les IDs des 5 articles les plus proches sont :\", closest_article_ids[0])\n",
    "print(\"devrait être : [6080,6120,6121,6122,6123,6124,6835,6769]\")\n",
    "\n",
    "for i in range(10):\n",
    "  print(\"\\n\")\n",
    "  closest_article_ids = find_closest_articles(df_train.iloc[i]['question'], df_train.iloc[i]['category']+df_train.iloc[i]['subcategory'], projected_articles, tokenizer, model, P_q)\n",
    "  print(\"Les IDs des 5 articles les plus proches sont :\", closest_article_ids[0])\n",
    "  print(\"devrait être : \", df_test.iloc[i][\"article_ids\"])\n",
    "\n"
   ],
   "metadata": {
    "id": "VZc7HOEzRysP",
    "colab": {
     "base_uri": "https://localhost:8080/"
    },
    "outputId": "ef52462c-fa65-4738-bcfe-6029765f654e"
   },
   "execution_count": null,
   "outputs": [
    {
     "output_type": "stream",
     "name": "stdout",
     "text": [
      "TRAIN\n",
      "\n",
      "\n",
      "Les IDs des 5 articles les plus proches sont : [2821, 907, 949, 6721, 22231, 6646, 2826, 1659, 952, 6734, 1153, 6383, 2822, 5468, 934]\n",
      "devrait être : [22225,22226,22227,22228,22229,22230,22231,22232,22233,22234]\n",
      "\n",
      "\n",
      "Les IDs des 5 articles les plus proches sont : [1017, 1045, 1084, 1091, 1089, 1080, 1061, 1053, 1018, 1030, 1090, 2447, 2360, 1068, 1019]\n",
      "devrait être : [1096,1097,1098,1108,1109,1110]\n",
      "\n",
      "\n",
      "Les IDs des 5 articles les plus proches sont : [823, 1150, 1306, 13912, 13404, 1113, 1305, 6507, 5572, 914, 5423, 1115, 1116, 1502, 1310]\n",
      "devrait être : [21114,21115,21116,21117,21118,21119,21120,21121,21122,21123,21124]\n",
      "\n",
      "\n",
      "\n",
      "\n",
      "TEST\n",
      "\n",
      "\n",
      "Les IDs des 5 articles les plus proches sont : [5308, 2421, 2203, 5491, 2005, 981, 2205, 2804, 2805, 2157, 2787, 1065, 2002, 2162, 2029]\n",
      "devrait être : [2041,2119,2138]\n",
      "\n",
      "\n",
      "Les IDs des 5 articles les plus proches sont : [4825, 5162, 5557, 13658, 4821, 5947, 5181, 13914, 4961, 5216, 4822, 4843, 2976, 4766, 6502]\n",
      "devrait être : [6080,6120,6121,6122,6123,6124,6835,6769]\n",
      "\n",
      "\n",
      "Les IDs des 5 articles les plus proches sont : [2821, 907, 6721, 2826, 5468, 22231, 6646, 949, 1659, 1315, 6734, 1303, 952, 1505, 2328]\n",
      "devrait être :  12024\n",
      "\n",
      "\n",
      "Les IDs des 5 articles les plus proches sont : [1063, 2368, 2505, 1978, 2836, 2800, 1866, 2360, 1776, 2352, 2343, 1981, 2488, 2506, 2503]\n",
      "devrait être :  947,948\n",
      "\n",
      "\n",
      "Les IDs des 5 articles les plus proches sont : [1061, 1017, 1045, 1074, 1091, 2301, 1030, 1084, 2304, 1018, 1073, 1019, 1080, 2360, 1077]\n",
      "devrait être :  2041,2119,2138\n",
      "\n",
      "\n",
      "Les IDs des 5 articles les plus proches sont : [2114, 2090, 1996, 2044, 2014, 2161, 2076, 2061, 2072, 2058, 2051, 2059, 2049, 2079, 2011]\n",
      "devrait être :  5562,5563,5564,5565,5566\n",
      "\n",
      "\n",
      "Les IDs des 5 articles les plus proches sont : [6179, 6182, 1107, 6178, 6481, 6167, 13898, 6180, 6181, 6496, 6186, 6175, 13899, 6176, 6331]\n",
      "devrait être :  5561,5562,5563,5564,5565,5566,5567,12124\n",
      "\n",
      "\n",
      "Les IDs des 5 articles les plus proches sont : [856, 855, 858, 875, 2114, 2113, 2076, 2090, 839, 870, 838, 841, 871, 2058, 852]\n",
      "devrait être :  13520\n",
      "\n",
      "\n",
      "Les IDs des 5 articles les plus proches sont : [2343, 1978, 1063, 1866, 2360, 2367, 2428, 2205, 2368, 2362, 1019, 1598, 1925, 1095, 1777]\n",
      "devrait être :  944,945,946,947,948,949,950,951,1093,1094,1095,1274,1275,1276\n",
      "\n",
      "\n",
      "Les IDs des 5 articles les plus proches sont : [2328, 5468, 1021, 1147, 5727, 1022, 1145, 1368, 2334, 1987, 5455, 5337, 1673, 2238, 1284]\n",
      "devrait être :  5961\n",
      "\n",
      "\n",
      "Les IDs des 5 articles les plus proches sont : [1621, 1560, 1507, 1997, 1638, 1478, 1633, 1511, 1516, 1518, 2135, 2029, 1620, 1528, 2089]\n",
      "devrait être :  1308,1310\n",
      "\n",
      "\n",
      "Les IDs des 5 articles les plus proches sont : [2114, 2044, 2090, 2072, 2076, 2014, 2061, 2105, 2117, 2059, 2058, 2049, 2104, 2057, 2062]\n",
      "devrait être :  5966\n"
     ]
    }
   ]
  },
  {
   "cell_type": "markdown",
   "source": [
    "## Evaluation du retriever"
   ],
   "metadata": {
    "id": "ZO4kYOaAj86l"
   }
  },
  {
   "cell_type": "code",
   "source": [
    "# inutile donne 0 ici\n",
    "def give_score(articles1,articles2):\n",
    "    score=0\n",
    "    for article in articles1:\n",
    "      if article in articles2:\n",
    "        score+=1\n",
    "    return score/len(articles2)\n"
   ],
   "metadata": {
    "id": "lGQxeZNdGjSj"
   },
   "execution_count": null,
   "outputs": []
  },
  {
   "cell_type": "code",
   "source": [
    "print(test_queries.head)"
   ],
   "metadata": {
    "colab": {
     "base_uri": "https://localhost:8080/"
    },
    "id": "yEd6d4MRJO3d",
    "outputId": "3056b612-5466-4d49-ef41-c9764ff5d348"
   },
   "execution_count": null,
   "outputs": [
    {
     "output_type": "stream",
     "name": "stdout",
     "text": [
      "<bound method NDFrame.head of       qid                                              query  \\\n",
      "0     775    Quels sont les critères communaux d insalubrité   \n",
      "1    1053  A t on droit à l allocation de naissance en ca...   \n",
      "2      72  Quels frais peut on ajouter lors d un recouvre...   \n",
      "3     861       Comment se déroule une expulsion à Bruxelles   \n",
      "4     786            Peut on m expulser en hiver en Wallonie   \n",
      "..    ...                                                ...   \n",
      "217   524  Je deviens cohabitant légal Dois je payer les ...   \n",
      "218    69                       A qui dois je payer ma dette   \n",
      "219   463  Je suis marié e On prend un logement en locati...   \n",
      "220   880  Est ce que je peux signer plusieurs baux de co...   \n",
      "221   512  Je suis victime de violences conjugales En tan...   \n",
      "\n",
      "                                     rel_docnos  \n",
      "0                                       [12024]  \n",
      "1                                     [947,948]  \n",
      "2                              [2041,2119,2138]  \n",
      "3                    [5562,5563,5564,5565,5566]  \n",
      "4    [5561,5562,5563,5564,5565,5566,5567,12124]  \n",
      "..                                          ...  \n",
      "217                            [2328,2329,2330]  \n",
      "218                                      [2127]  \n",
      "219                                      [1073]  \n",
      "220                                       [857]  \n",
      "221                                 [6531,6598]  \n",
      "\n",
      "[222 rows x 3 columns]>\n"
     ]
    }
   ]
  },
  {
   "cell_type": "code",
   "source": [
    "results = []\n",
    "\n",
    "for idx, row in test_queries.iterrows():\n",
    "    qid = row['qid']\n",
    "    query_text = row['query']\n",
    "    n=len(row['rel_docnos'])\n",
    "    #description = df_test.iloc[idx][\"category\"]+df_test.iloc[idx][\"subcategory\"]+ df_test.iloc[idx][\"extra_description\"] # Ou utilisez une colonne de 'test_queries' si applicable\n",
    "    description = df_test.iloc[idx][\"category\"]+df_test.iloc[idx][\"subcategory\"]\n",
    "    closest_article_ids = find_closest_articles(query_text, description, projected_articles, tokenizer, model, P_q, n)[0]\n",
    "    score=give_score(list(closest_article_ids),row['rel_docnos'])\n",
    "    # Pour cet exemple, les scores sont définis comme inverses des rangs (simple exemple)\n",
    "    for rank, article_id in enumerate(closest_article_ids):\n",
    "        results.append({'qid': qid, 'docno': article_id, 'score': score})\n",
    "\n"
   ],
   "metadata": {
    "id": "a2jQM7wdj_Hk"
   },
   "execution_count": null,
   "outputs": []
  },
  {
   "cell_type": "code",
   "source": [
    "print(results_df)\n",
    "file_path = '/content/drive/My Drive/Jimini/article_embeddings/custom_retrieval_results.csv'\n",
    "# Enregistrer le fichier CSV\n",
    "results_df.to_csv(file_path, index=False)\n"
   ],
   "metadata": {
    "colab": {
     "base_uri": "https://localhost:8080/"
    },
    "id": "txidQUClnJYT",
    "outputId": "859f79d7-4a26-479e-d5fe-6f1226a735be"
   },
   "execution_count": null,
   "outputs": [
    {
     "output_type": "stream",
     "name": "stdout",
     "text": [
      "      qid  docno  score\n",
      "0     775    855    0.0\n",
      "1     775    856    0.0\n",
      "2     775   1338    0.0\n",
      "3     775   6591    0.0\n",
      "4     775   1502    0.0\n",
      "...   ...    ...    ...\n",
      "1327  512  22445    0.0\n",
      "1328  512  22449    0.0\n",
      "1329  512   1087    0.0\n",
      "1330  512   2830    0.0\n",
      "1331  512   1078    0.0\n",
      "\n",
      "[1332 rows x 3 columns]\n"
     ]
    }
   ]
  },
  {
   "cell_type": "markdown",
   "metadata": {
    "id": "f33o4kZ2mCbs"
   },
   "source": [
    "## Quelques questions ouvertes\n",
    "\n",
    "### Information Retrieval\n",
    "\n",
    "Dans le cas de *Jimini Analyzer*, on est dans un contexte un peu particulier, où l'information provient de documents structurés.\n",
    "- L'approche précédente ne tient compte que du contenu des paragraphes, pas de leur place dans la structure du document. Comment pourrait-on améliorer cela ?\n",
    "\n",
    "- Que pensez-vous du dataset utilisé ? Comment pourrait-on l'améliorer ?\n",
    "plus de données\n",
    "\n",
    "\n",
    "- Quelle stratégie adopter pour faire un résumé d'un long document ?\n",
    "\n",
    "\n",
    "### Raisonnement juridique\n",
    "\n",
    "\n",
    "Récupérer le contexte pertinent est une étape *sine qua none*, mais il faut ensuite fournir le contexte au LLM, et qu'il réponde à la question posée.\n",
    "- Comment évaluer le LLM sur le contenu de ses réponses ?\n",
    "- Quelles métriques utiliser ?\n",
    "- Quel dataset utiliser / construire pour faire acquérir un raisonnement juridique au LLM ?\n",
    "- Comment s'assurer que le dataset est de qualité / représentatif ?  \n",
    "- De quel modèle partir ?\n",
    "- Quelle technique d'entraînement utiliser ? (full-parameter fine-tuning, PEFT - LoRA - QLoRA , prompt-tuning,...)\n",
    "- Comment contrôler l'hallucination ?\n",
    "- Comment faire de l'amélioration continue, en s'assurant que le modèle ne se dégrade pas lorsqu'on lui enseigne une nouvelle compétence ?\n",
    "- Comment limiter les frais de calculs ?\n",
    "\n",
    "\n",
    "### Rédaction de documents\n",
    "\n",
    "- Comment rédiger un contrat de plusieurs dizaines de pages ?\n",
    "\n",
    "### Bonus\n",
    "\n",
    "Sentez-vous libre de proposer des améliorations, des idées, des pistes, etc. !\n",
    "\n",
    "\n"
   ]
  }
 ],
 "metadata": {
  "kernelspec": {
   "display_name": "Python 3 (ipykernel)",
   "name": "python3",
   "language": "python"
  },
  "language_info": {
   "codemirror_mode": {
    "name": "ipython",
    "version": 3
   },
   "file_extension": ".py",
   "mimetype": "text/x-python",
   "name": "python",
   "nbconvert_exporter": "python",
   "pygments_lexer": "ipython3",
   "version": "3.11.4"
  },
  "colab": {
   "provenance": [],
   "gpuType": "T4"
  },
  "accelerator": "GPU",
  "widgets": {
   "application/vnd.jupyter.widget-state+json": {
    "cb7dd0ec02824103b957f0d4c947031c": {
     "model_module": "@jupyter-widgets/controls",
     "model_name": "HBoxModel",
     "model_module_version": "1.5.0",
     "state": {
      "_dom_classes": [],
      "_model_module": "@jupyter-widgets/controls",
      "_model_module_version": "1.5.0",
      "_model_name": "HBoxModel",
      "_view_count": null,
      "_view_module": "@jupyter-widgets/controls",
      "_view_module_version": "1.5.0",
      "_view_name": "HBoxView",
      "box_style": "",
      "children": [
       "IPY_MODEL_a397b59640354922bc7ad237c5c0e276",
       "IPY_MODEL_56e9e117012e4527a58f158d355a5344",
       "IPY_MODEL_1416c7a3945e40f99913dcf33b9ff678"
      ],
      "layout": "IPY_MODEL_96500b05b9d74b93b5b811a976ce7545"
     }
    },
    "a397b59640354922bc7ad237c5c0e276": {
     "model_module": "@jupyter-widgets/controls",
     "model_name": "HTMLModel",
     "model_module_version": "1.5.0",
     "state": {
      "_dom_classes": [],
      "_model_module": "@jupyter-widgets/controls",
      "_model_module_version": "1.5.0",
      "_model_name": "HTMLModel",
      "_view_count": null,
      "_view_module": "@jupyter-widgets/controls",
      "_view_module_version": "1.5.0",
      "_view_name": "HTMLView",
      "description": "",
      "description_tooltip": null,
      "layout": "IPY_MODEL_bb01fbb759754937ad26312c2e5d6c4d",
      "placeholder": "​",
      "style": "IPY_MODEL_91cbb9195d1549b68698817a9ff9f86b",
      "value": "tokenizer_config.json: 100%"
     }
    },
    "56e9e117012e4527a58f158d355a5344": {
     "model_module": "@jupyter-widgets/controls",
     "model_name": "FloatProgressModel",
     "model_module_version": "1.5.0",
     "state": {
      "_dom_classes": [],
      "_model_module": "@jupyter-widgets/controls",
      "_model_module_version": "1.5.0",
      "_model_name": "FloatProgressModel",
      "_view_count": null,
      "_view_module": "@jupyter-widgets/controls",
      "_view_module_version": "1.5.0",
      "_view_name": "ProgressView",
      "bar_style": "success",
      "description": "",
      "description_tooltip": null,
      "layout": "IPY_MODEL_5a65dee8fb2b491e982f5bcfcaafc972",
      "max": 25,
      "min": 0,
      "orientation": "horizontal",
      "style": "IPY_MODEL_9346391f31c444b786fba3682d1b3fc8",
      "value": 25
     }
    },
    "1416c7a3945e40f99913dcf33b9ff678": {
     "model_module": "@jupyter-widgets/controls",
     "model_name": "HTMLModel",
     "model_module_version": "1.5.0",
     "state": {
      "_dom_classes": [],
      "_model_module": "@jupyter-widgets/controls",
      "_model_module_version": "1.5.0",
      "_model_name": "HTMLModel",
      "_view_count": null,
      "_view_module": "@jupyter-widgets/controls",
      "_view_module_version": "1.5.0",
      "_view_name": "HTMLView",
      "description": "",
      "description_tooltip": null,
      "layout": "IPY_MODEL_23b05b2a94e041fe85dcc9fc94b79915",
      "placeholder": "​",
      "style": "IPY_MODEL_eed6092d44944cab8357edbb5bd635b2",
      "value": " 25.0/25.0 [00:00&lt;00:00, 419B/s]"
     }
    },
    "96500b05b9d74b93b5b811a976ce7545": {
     "model_module": "@jupyter-widgets/base",
     "model_name": "LayoutModel",
     "model_module_version": "1.2.0",
     "state": {
      "_model_module": "@jupyter-widgets/base",
      "_model_module_version": "1.2.0",
      "_model_name": "LayoutModel",
      "_view_count": null,
      "_view_module": "@jupyter-widgets/base",
      "_view_module_version": "1.2.0",
      "_view_name": "LayoutView",
      "align_content": null,
      "align_items": null,
      "align_self": null,
      "border": null,
      "bottom": null,
      "display": null,
      "flex": null,
      "flex_flow": null,
      "grid_area": null,
      "grid_auto_columns": null,
      "grid_auto_flow": null,
      "grid_auto_rows": null,
      "grid_column": null,
      "grid_gap": null,
      "grid_row": null,
      "grid_template_areas": null,
      "grid_template_columns": null,
      "grid_template_rows": null,
      "height": null,
      "justify_content": null,
      "justify_items": null,
      "left": null,
      "margin": null,
      "max_height": null,
      "max_width": null,
      "min_height": null,
      "min_width": null,
      "object_fit": null,
      "object_position": null,
      "order": null,
      "overflow": null,
      "overflow_x": null,
      "overflow_y": null,
      "padding": null,
      "right": null,
      "top": null,
      "visibility": null,
      "width": null
     }
    },
    "bb01fbb759754937ad26312c2e5d6c4d": {
     "model_module": "@jupyter-widgets/base",
     "model_name": "LayoutModel",
     "model_module_version": "1.2.0",
     "state": {
      "_model_module": "@jupyter-widgets/base",
      "_model_module_version": "1.2.0",
      "_model_name": "LayoutModel",
      "_view_count": null,
      "_view_module": "@jupyter-widgets/base",
      "_view_module_version": "1.2.0",
      "_view_name": "LayoutView",
      "align_content": null,
      "align_items": null,
      "align_self": null,
      "border": null,
      "bottom": null,
      "display": null,
      "flex": null,
      "flex_flow": null,
      "grid_area": null,
      "grid_auto_columns": null,
      "grid_auto_flow": null,
      "grid_auto_rows": null,
      "grid_column": null,
      "grid_gap": null,
      "grid_row": null,
      "grid_template_areas": null,
      "grid_template_columns": null,
      "grid_template_rows": null,
      "height": null,
      "justify_content": null,
      "justify_items": null,
      "left": null,
      "margin": null,
      "max_height": null,
      "max_width": null,
      "min_height": null,
      "min_width": null,
      "object_fit": null,
      "object_position": null,
      "order": null,
      "overflow": null,
      "overflow_x": null,
      "overflow_y": null,
      "padding": null,
      "right": null,
      "top": null,
      "visibility": null,
      "width": null
     }
    },
    "91cbb9195d1549b68698817a9ff9f86b": {
     "model_module": "@jupyter-widgets/controls",
     "model_name": "DescriptionStyleModel",
     "model_module_version": "1.5.0",
     "state": {
      "_model_module": "@jupyter-widgets/controls",
      "_model_module_version": "1.5.0",
      "_model_name": "DescriptionStyleModel",
      "_view_count": null,
      "_view_module": "@jupyter-widgets/base",
      "_view_module_version": "1.2.0",
      "_view_name": "StyleView",
      "description_width": ""
     }
    },
    "5a65dee8fb2b491e982f5bcfcaafc972": {
     "model_module": "@jupyter-widgets/base",
     "model_name": "LayoutModel",
     "model_module_version": "1.2.0",
     "state": {
      "_model_module": "@jupyter-widgets/base",
      "_model_module_version": "1.2.0",
      "_model_name": "LayoutModel",
      "_view_count": null,
      "_view_module": "@jupyter-widgets/base",
      "_view_module_version": "1.2.0",
      "_view_name": "LayoutView",
      "align_content": null,
      "align_items": null,
      "align_self": null,
      "border": null,
      "bottom": null,
      "display": null,
      "flex": null,
      "flex_flow": null,
      "grid_area": null,
      "grid_auto_columns": null,
      "grid_auto_flow": null,
      "grid_auto_rows": null,
      "grid_column": null,
      "grid_gap": null,
      "grid_row": null,
      "grid_template_areas": null,
      "grid_template_columns": null,
      "grid_template_rows": null,
      "height": null,
      "justify_content": null,
      "justify_items": null,
      "left": null,
      "margin": null,
      "max_height": null,
      "max_width": null,
      "min_height": null,
      "min_width": null,
      "object_fit": null,
      "object_position": null,
      "order": null,
      "overflow": null,
      "overflow_x": null,
      "overflow_y": null,
      "padding": null,
      "right": null,
      "top": null,
      "visibility": null,
      "width": null
     }
    },
    "9346391f31c444b786fba3682d1b3fc8": {
     "model_module": "@jupyter-widgets/controls",
     "model_name": "ProgressStyleModel",
     "model_module_version": "1.5.0",
     "state": {
      "_model_module": "@jupyter-widgets/controls",
      "_model_module_version": "1.5.0",
      "_model_name": "ProgressStyleModel",
      "_view_count": null,
      "_view_module": "@jupyter-widgets/base",
      "_view_module_version": "1.2.0",
      "_view_name": "StyleView",
      "bar_color": null,
      "description_width": ""
     }
    },
    "23b05b2a94e041fe85dcc9fc94b79915": {
     "model_module": "@jupyter-widgets/base",
     "model_name": "LayoutModel",
     "model_module_version": "1.2.0",
     "state": {
      "_model_module": "@jupyter-widgets/base",
      "_model_module_version": "1.2.0",
      "_model_name": "LayoutModel",
      "_view_count": null,
      "_view_module": "@jupyter-widgets/base",
      "_view_module_version": "1.2.0",
      "_view_name": "LayoutView",
      "align_content": null,
      "align_items": null,
      "align_self": null,
      "border": null,
      "bottom": null,
      "display": null,
      "flex": null,
      "flex_flow": null,
      "grid_area": null,
      "grid_auto_columns": null,
      "grid_auto_flow": null,
      "grid_auto_rows": null,
      "grid_column": null,
      "grid_gap": null,
      "grid_row": null,
      "grid_template_areas": null,
      "grid_template_columns": null,
      "grid_template_rows": null,
      "height": null,
      "justify_content": null,
      "justify_items": null,
      "left": null,
      "margin": null,
      "max_height": null,
      "max_width": null,
      "min_height": null,
      "min_width": null,
      "object_fit": null,
      "object_position": null,
      "order": null,
      "overflow": null,
      "overflow_x": null,
      "overflow_y": null,
      "padding": null,
      "right": null,
      "top": null,
      "visibility": null,
      "width": null
     }
    },
    "eed6092d44944cab8357edbb5bd635b2": {
     "model_module": "@jupyter-widgets/controls",
     "model_name": "DescriptionStyleModel",
     "model_module_version": "1.5.0",
     "state": {
      "_model_module": "@jupyter-widgets/controls",
      "_model_module_version": "1.5.0",
      "_model_name": "DescriptionStyleModel",
      "_view_count": null,
      "_view_module": "@jupyter-widgets/base",
      "_view_module_version": "1.2.0",
      "_view_name": "StyleView",
      "description_width": ""
     }
    },
    "7a5217a537014e96b9a8d889f6512126": {
     "model_module": "@jupyter-widgets/controls",
     "model_name": "HBoxModel",
     "model_module_version": "1.5.0",
     "state": {
      "_dom_classes": [],
      "_model_module": "@jupyter-widgets/controls",
      "_model_module_version": "1.5.0",
      "_model_name": "HBoxModel",
      "_view_count": null,
      "_view_module": "@jupyter-widgets/controls",
      "_view_module_version": "1.5.0",
      "_view_name": "HBoxView",
      "box_style": "",
      "children": [
       "IPY_MODEL_2f8aee76b27448c7ae3841a476293476",
       "IPY_MODEL_5627e1725f9f4898b38d9f33ee4042cc",
       "IPY_MODEL_e6627f6ff0ea4f58911c61a994b4445d"
      ],
      "layout": "IPY_MODEL_5b7aa29b8d714566afaf5ec2e3695b9b"
     }
    },
    "2f8aee76b27448c7ae3841a476293476": {
     "model_module": "@jupyter-widgets/controls",
     "model_name": "HTMLModel",
     "model_module_version": "1.5.0",
     "state": {
      "_dom_classes": [],
      "_model_module": "@jupyter-widgets/controls",
      "_model_module_version": "1.5.0",
      "_model_name": "HTMLModel",
      "_view_count": null,
      "_view_module": "@jupyter-widgets/controls",
      "_view_module_version": "1.5.0",
      "_view_name": "HTMLView",
      "description": "",
      "description_tooltip": null,
      "layout": "IPY_MODEL_28a6334110a04d46b80e46cb5606577f",
      "placeholder": "​",
      "style": "IPY_MODEL_282a75ab86a64511981f8914de5e7092",
      "value": "sentencepiece.bpe.model: 100%"
     }
    },
    "5627e1725f9f4898b38d9f33ee4042cc": {
     "model_module": "@jupyter-widgets/controls",
     "model_name": "FloatProgressModel",
     "model_module_version": "1.5.0",
     "state": {
      "_dom_classes": [],
      "_model_module": "@jupyter-widgets/controls",
      "_model_module_version": "1.5.0",
      "_model_name": "FloatProgressModel",
      "_view_count": null,
      "_view_module": "@jupyter-widgets/controls",
      "_view_module_version": "1.5.0",
      "_view_name": "ProgressView",
      "bar_style": "success",
      "description": "",
      "description_tooltip": null,
      "layout": "IPY_MODEL_05f950c786614dc296d0e0a6d030824b",
      "max": 810912,
      "min": 0,
      "orientation": "horizontal",
      "style": "IPY_MODEL_d49fe07c357240fab1684227e5b0ccbe",
      "value": 810912
     }
    },
    "e6627f6ff0ea4f58911c61a994b4445d": {
     "model_module": "@jupyter-widgets/controls",
     "model_name": "HTMLModel",
     "model_module_version": "1.5.0",
     "state": {
      "_dom_classes": [],
      "_model_module": "@jupyter-widgets/controls",
      "_model_module_version": "1.5.0",
      "_model_name": "HTMLModel",
      "_view_count": null,
      "_view_module": "@jupyter-widgets/controls",
      "_view_module_version": "1.5.0",
      "_view_name": "HTMLView",
      "description": "",
      "description_tooltip": null,
      "layout": "IPY_MODEL_a96b2d181ed146d2875237b7add9a011",
      "placeholder": "​",
      "style": "IPY_MODEL_406d7701418c49e4b6d1cdd2d9f68d14",
      "value": " 811k/811k [00:00&lt;00:00, 7.85MB/s]"
     }
    },
    "5b7aa29b8d714566afaf5ec2e3695b9b": {
     "model_module": "@jupyter-widgets/base",
     "model_name": "LayoutModel",
     "model_module_version": "1.2.0",
     "state": {
      "_model_module": "@jupyter-widgets/base",
      "_model_module_version": "1.2.0",
      "_model_name": "LayoutModel",
      "_view_count": null,
      "_view_module": "@jupyter-widgets/base",
      "_view_module_version": "1.2.0",
      "_view_name": "LayoutView",
      "align_content": null,
      "align_items": null,
      "align_self": null,
      "border": null,
      "bottom": null,
      "display": null,
      "flex": null,
      "flex_flow": null,
      "grid_area": null,
      "grid_auto_columns": null,
      "grid_auto_flow": null,
      "grid_auto_rows": null,
      "grid_column": null,
      "grid_gap": null,
      "grid_row": null,
      "grid_template_areas": null,
      "grid_template_columns": null,
      "grid_template_rows": null,
      "height": null,
      "justify_content": null,
      "justify_items": null,
      "left": null,
      "margin": null,
      "max_height": null,
      "max_width": null,
      "min_height": null,
      "min_width": null,
      "object_fit": null,
      "object_position": null,
      "order": null,
      "overflow": null,
      "overflow_x": null,
      "overflow_y": null,
      "padding": null,
      "right": null,
      "top": null,
      "visibility": null,
      "width": null
     }
    },
    "28a6334110a04d46b80e46cb5606577f": {
     "model_module": "@jupyter-widgets/base",
     "model_name": "LayoutModel",
     "model_module_version": "1.2.0",
     "state": {
      "_model_module": "@jupyter-widgets/base",
      "_model_module_version": "1.2.0",
      "_model_name": "LayoutModel",
      "_view_count": null,
      "_view_module": "@jupyter-widgets/base",
      "_view_module_version": "1.2.0",
      "_view_name": "LayoutView",
      "align_content": null,
      "align_items": null,
      "align_self": null,
      "border": null,
      "bottom": null,
      "display": null,
      "flex": null,
      "flex_flow": null,
      "grid_area": null,
      "grid_auto_columns": null,
      "grid_auto_flow": null,
      "grid_auto_rows": null,
      "grid_column": null,
      "grid_gap": null,
      "grid_row": null,
      "grid_template_areas": null,
      "grid_template_columns": null,
      "grid_template_rows": null,
      "height": null,
      "justify_content": null,
      "justify_items": null,
      "left": null,
      "margin": null,
      "max_height": null,
      "max_width": null,
      "min_height": null,
      "min_width": null,
      "object_fit": null,
      "object_position": null,
      "order": null,
      "overflow": null,
      "overflow_x": null,
      "overflow_y": null,
      "padding": null,
      "right": null,
      "top": null,
      "visibility": null,
      "width": null
     }
    },
    "282a75ab86a64511981f8914de5e7092": {
     "model_module": "@jupyter-widgets/controls",
     "model_name": "DescriptionStyleModel",
     "model_module_version": "1.5.0",
     "state": {
      "_model_module": "@jupyter-widgets/controls",
      "_model_module_version": "1.5.0",
      "_model_name": "DescriptionStyleModel",
      "_view_count": null,
      "_view_module": "@jupyter-widgets/base",
      "_view_module_version": "1.2.0",
      "_view_name": "StyleView",
      "description_width": ""
     }
    },
    "05f950c786614dc296d0e0a6d030824b": {
     "model_module": "@jupyter-widgets/base",
     "model_name": "LayoutModel",
     "model_module_version": "1.2.0",
     "state": {
      "_model_module": "@jupyter-widgets/base",
      "_model_module_version": "1.2.0",
      "_model_name": "LayoutModel",
      "_view_count": null,
      "_view_module": "@jupyter-widgets/base",
      "_view_module_version": "1.2.0",
      "_view_name": "LayoutView",
      "align_content": null,
      "align_items": null,
      "align_self": null,
      "border": null,
      "bottom": null,
      "display": null,
      "flex": null,
      "flex_flow": null,
      "grid_area": null,
      "grid_auto_columns": null,
      "grid_auto_flow": null,
      "grid_auto_rows": null,
      "grid_column": null,
      "grid_gap": null,
      "grid_row": null,
      "grid_template_areas": null,
      "grid_template_columns": null,
      "grid_template_rows": null,
      "height": null,
      "justify_content": null,
      "justify_items": null,
      "left": null,
      "margin": null,
      "max_height": null,
      "max_width": null,
      "min_height": null,
      "min_width": null,
      "object_fit": null,
      "object_position": null,
      "order": null,
      "overflow": null,
      "overflow_x": null,
      "overflow_y": null,
      "padding": null,
      "right": null,
      "top": null,
      "visibility": null,
      "width": null
     }
    },
    "d49fe07c357240fab1684227e5b0ccbe": {
     "model_module": "@jupyter-widgets/controls",
     "model_name": "ProgressStyleModel",
     "model_module_version": "1.5.0",
     "state": {
      "_model_module": "@jupyter-widgets/controls",
      "_model_module_version": "1.5.0",
      "_model_name": "ProgressStyleModel",
      "_view_count": null,
      "_view_module": "@jupyter-widgets/base",
      "_view_module_version": "1.2.0",
      "_view_name": "StyleView",
      "bar_color": null,
      "description_width": ""
     }
    },
    "a96b2d181ed146d2875237b7add9a011": {
     "model_module": "@jupyter-widgets/base",
     "model_name": "LayoutModel",
     "model_module_version": "1.2.0",
     "state": {
      "_model_module": "@jupyter-widgets/base",
      "_model_module_version": "1.2.0",
      "_model_name": "LayoutModel",
      "_view_count": null,
      "_view_module": "@jupyter-widgets/base",
      "_view_module_version": "1.2.0",
      "_view_name": "LayoutView",
      "align_content": null,
      "align_items": null,
      "align_self": null,
      "border": null,
      "bottom": null,
      "display": null,
      "flex": null,
      "flex_flow": null,
      "grid_area": null,
      "grid_auto_columns": null,
      "grid_auto_flow": null,
      "grid_auto_rows": null,
      "grid_column": null,
      "grid_gap": null,
      "grid_row": null,
      "grid_template_areas": null,
      "grid_template_columns": null,
      "grid_template_rows": null,
      "height": null,
      "justify_content": null,
      "justify_items": null,
      "left": null,
      "margin": null,
      "max_height": null,
      "max_width": null,
      "min_height": null,
      "min_width": null,
      "object_fit": null,
      "object_position": null,
      "order": null,
      "overflow": null,
      "overflow_x": null,
      "overflow_y": null,
      "padding": null,
      "right": null,
      "top": null,
      "visibility": null,
      "width": null
     }
    },
    "406d7701418c49e4b6d1cdd2d9f68d14": {
     "model_module": "@jupyter-widgets/controls",
     "model_name": "DescriptionStyleModel",
     "model_module_version": "1.5.0",
     "state": {
      "_model_module": "@jupyter-widgets/controls",
      "_model_module_version": "1.5.0",
      "_model_name": "DescriptionStyleModel",
      "_view_count": null,
      "_view_module": "@jupyter-widgets/base",
      "_view_module_version": "1.2.0",
      "_view_name": "StyleView",
      "description_width": ""
     }
    },
    "787639037f734a62bdfb801142e39b90": {
     "model_module": "@jupyter-widgets/controls",
     "model_name": "HBoxModel",
     "model_module_version": "1.5.0",
     "state": {
      "_dom_classes": [],
      "_model_module": "@jupyter-widgets/controls",
      "_model_module_version": "1.5.0",
      "_model_name": "HBoxModel",
      "_view_count": null,
      "_view_module": "@jupyter-widgets/controls",
      "_view_module_version": "1.5.0",
      "_view_name": "HBoxView",
      "box_style": "",
      "children": [
       "IPY_MODEL_ff374392586c432aa0ecdae482ed65cc",
       "IPY_MODEL_ee937229d4414dc1a56a311663300930",
       "IPY_MODEL_ad880c6709ab4d779b2359870cec9243"
      ],
      "layout": "IPY_MODEL_4d015425043c4dca8fea1482c65bda69"
     }
    },
    "ff374392586c432aa0ecdae482ed65cc": {
     "model_module": "@jupyter-widgets/controls",
     "model_name": "HTMLModel",
     "model_module_version": "1.5.0",
     "state": {
      "_dom_classes": [],
      "_model_module": "@jupyter-widgets/controls",
      "_model_module_version": "1.5.0",
      "_model_name": "HTMLModel",
      "_view_count": null,
      "_view_module": "@jupyter-widgets/controls",
      "_view_module_version": "1.5.0",
      "_view_name": "HTMLView",
      "description": "",
      "description_tooltip": null,
      "layout": "IPY_MODEL_4ab5ae5198dc4071994c82a8024dee2f",
      "placeholder": "​",
      "style": "IPY_MODEL_326b049e9f064aa2b939156a2b2b54b3",
      "value": "tokenizer.json: 100%"
     }
    },
    "ee937229d4414dc1a56a311663300930": {
     "model_module": "@jupyter-widgets/controls",
     "model_name": "FloatProgressModel",
     "model_module_version": "1.5.0",
     "state": {
      "_dom_classes": [],
      "_model_module": "@jupyter-widgets/controls",
      "_model_module_version": "1.5.0",
      "_model_name": "FloatProgressModel",
      "_view_count": null,
      "_view_module": "@jupyter-widgets/controls",
      "_view_module_version": "1.5.0",
      "_view_name": "ProgressView",
      "bar_style": "success",
      "description": "",
      "description_tooltip": null,
      "layout": "IPY_MODEL_4c32a524dcb24237b67d9d43ebce0df8",
      "max": 1395301,
      "min": 0,
      "orientation": "horizontal",
      "style": "IPY_MODEL_fb35358f992948b6b21734246bca299e",
      "value": 1395301
     }
    },
    "ad880c6709ab4d779b2359870cec9243": {
     "model_module": "@jupyter-widgets/controls",
     "model_name": "HTMLModel",
     "model_module_version": "1.5.0",
     "state": {
      "_dom_classes": [],
      "_model_module": "@jupyter-widgets/controls",
      "_model_module_version": "1.5.0",
      "_model_name": "HTMLModel",
      "_view_count": null,
      "_view_module": "@jupyter-widgets/controls",
      "_view_module_version": "1.5.0",
      "_view_name": "HTMLView",
      "description": "",
      "description_tooltip": null,
      "layout": "IPY_MODEL_6ed9a5a64bc649129a13ea6d74a54650",
      "placeholder": "​",
      "style": "IPY_MODEL_d304ccb5635040748d1def5f5171c5a8",
      "value": " 1.40M/1.40M [00:00&lt;00:00, 15.0MB/s]"
     }
    },
    "4d015425043c4dca8fea1482c65bda69": {
     "model_module": "@jupyter-widgets/base",
     "model_name": "LayoutModel",
     "model_module_version": "1.2.0",
     "state": {
      "_model_module": "@jupyter-widgets/base",
      "_model_module_version": "1.2.0",
      "_model_name": "LayoutModel",
      "_view_count": null,
      "_view_module": "@jupyter-widgets/base",
      "_view_module_version": "1.2.0",
      "_view_name": "LayoutView",
      "align_content": null,
      "align_items": null,
      "align_self": null,
      "border": null,
      "bottom": null,
      "display": null,
      "flex": null,
      "flex_flow": null,
      "grid_area": null,
      "grid_auto_columns": null,
      "grid_auto_flow": null,
      "grid_auto_rows": null,
      "grid_column": null,
      "grid_gap": null,
      "grid_row": null,
      "grid_template_areas": null,
      "grid_template_columns": null,
      "grid_template_rows": null,
      "height": null,
      "justify_content": null,
      "justify_items": null,
      "left": null,
      "margin": null,
      "max_height": null,
      "max_width": null,
      "min_height": null,
      "min_width": null,
      "object_fit": null,
      "object_position": null,
      "order": null,
      "overflow": null,
      "overflow_x": null,
      "overflow_y": null,
      "padding": null,
      "right": null,
      "top": null,
      "visibility": null,
      "width": null
     }
    },
    "4ab5ae5198dc4071994c82a8024dee2f": {
     "model_module": "@jupyter-widgets/base",
     "model_name": "LayoutModel",
     "model_module_version": "1.2.0",
     "state": {
      "_model_module": "@jupyter-widgets/base",
      "_model_module_version": "1.2.0",
      "_model_name": "LayoutModel",
      "_view_count": null,
      "_view_module": "@jupyter-widgets/base",
      "_view_module_version": "1.2.0",
      "_view_name": "LayoutView",
      "align_content": null,
      "align_items": null,
      "align_self": null,
      "border": null,
      "bottom": null,
      "display": null,
      "flex": null,
      "flex_flow": null,
      "grid_area": null,
      "grid_auto_columns": null,
      "grid_auto_flow": null,
      "grid_auto_rows": null,
      "grid_column": null,
      "grid_gap": null,
      "grid_row": null,
      "grid_template_areas": null,
      "grid_template_columns": null,
      "grid_template_rows": null,
      "height": null,
      "justify_content": null,
      "justify_items": null,
      "left": null,
      "margin": null,
      "max_height": null,
      "max_width": null,
      "min_height": null,
      "min_width": null,
      "object_fit": null,
      "object_position": null,
      "order": null,
      "overflow": null,
      "overflow_x": null,
      "overflow_y": null,
      "padding": null,
      "right": null,
      "top": null,
      "visibility": null,
      "width": null
     }
    },
    "326b049e9f064aa2b939156a2b2b54b3": {
     "model_module": "@jupyter-widgets/controls",
     "model_name": "DescriptionStyleModel",
     "model_module_version": "1.5.0",
     "state": {
      "_model_module": "@jupyter-widgets/controls",
      "_model_module_version": "1.5.0",
      "_model_name": "DescriptionStyleModel",
      "_view_count": null,
      "_view_module": "@jupyter-widgets/base",
      "_view_module_version": "1.2.0",
      "_view_name": "StyleView",
      "description_width": ""
     }
    },
    "4c32a524dcb24237b67d9d43ebce0df8": {
     "model_module": "@jupyter-widgets/base",
     "model_name": "LayoutModel",
     "model_module_version": "1.2.0",
     "state": {
      "_model_module": "@jupyter-widgets/base",
      "_model_module_version": "1.2.0",
      "_model_name": "LayoutModel",
      "_view_count": null,
      "_view_module": "@jupyter-widgets/base",
      "_view_module_version": "1.2.0",
      "_view_name": "LayoutView",
      "align_content": null,
      "align_items": null,
      "align_self": null,
      "border": null,
      "bottom": null,
      "display": null,
      "flex": null,
      "flex_flow": null,
      "grid_area": null,
      "grid_auto_columns": null,
      "grid_auto_flow": null,
      "grid_auto_rows": null,
      "grid_column": null,
      "grid_gap": null,
      "grid_row": null,
      "grid_template_areas": null,
      "grid_template_columns": null,
      "grid_template_rows": null,
      "height": null,
      "justify_content": null,
      "justify_items": null,
      "left": null,
      "margin": null,
      "max_height": null,
      "max_width": null,
      "min_height": null,
      "min_width": null,
      "object_fit": null,
      "object_position": null,
      "order": null,
      "overflow": null,
      "overflow_x": null,
      "overflow_y": null,
      "padding": null,
      "right": null,
      "top": null,
      "visibility": null,
      "width": null
     }
    },
    "fb35358f992948b6b21734246bca299e": {
     "model_module": "@jupyter-widgets/controls",
     "model_name": "ProgressStyleModel",
     "model_module_version": "1.5.0",
     "state": {
      "_model_module": "@jupyter-widgets/controls",
      "_model_module_version": "1.5.0",
      "_model_name": "ProgressStyleModel",
      "_view_count": null,
      "_view_module": "@jupyter-widgets/base",
      "_view_module_version": "1.2.0",
      "_view_name": "StyleView",
      "bar_color": null,
      "description_width": ""
     }
    },
    "6ed9a5a64bc649129a13ea6d74a54650": {
     "model_module": "@jupyter-widgets/base",
     "model_name": "LayoutModel",
     "model_module_version": "1.2.0",
     "state": {
      "_model_module": "@jupyter-widgets/base",
      "_model_module_version": "1.2.0",
      "_model_name": "LayoutModel",
      "_view_count": null,
      "_view_module": "@jupyter-widgets/base",
      "_view_module_version": "1.2.0",
      "_view_name": "LayoutView",
      "align_content": null,
      "align_items": null,
      "align_self": null,
      "border": null,
      "bottom": null,
      "display": null,
      "flex": null,
      "flex_flow": null,
      "grid_area": null,
      "grid_auto_columns": null,
      "grid_auto_flow": null,
      "grid_auto_rows": null,
      "grid_column": null,
      "grid_gap": null,
      "grid_row": null,
      "grid_template_areas": null,
      "grid_template_columns": null,
      "grid_template_rows": null,
      "height": null,
      "justify_content": null,
      "justify_items": null,
      "left": null,
      "margin": null,
      "max_height": null,
      "max_width": null,
      "min_height": null,
      "min_width": null,
      "object_fit": null,
      "object_position": null,
      "order": null,
      "overflow": null,
      "overflow_x": null,
      "overflow_y": null,
      "padding": null,
      "right": null,
      "top": null,
      "visibility": null,
      "width": null
     }
    },
    "d304ccb5635040748d1def5f5171c5a8": {
     "model_module": "@jupyter-widgets/controls",
     "model_name": "DescriptionStyleModel",
     "model_module_version": "1.5.0",
     "state": {
      "_model_module": "@jupyter-widgets/controls",
      "_model_module_version": "1.5.0",
      "_model_name": "DescriptionStyleModel",
      "_view_count": null,
      "_view_module": "@jupyter-widgets/base",
      "_view_module_version": "1.2.0",
      "_view_name": "StyleView",
      "description_width": ""
     }
    },
    "5509f401178c40f997ff848ec14fd80c": {
     "model_module": "@jupyter-widgets/controls",
     "model_name": "HBoxModel",
     "model_module_version": "1.5.0",
     "state": {
      "_dom_classes": [],
      "_model_module": "@jupyter-widgets/controls",
      "_model_module_version": "1.5.0",
      "_model_name": "HBoxModel",
      "_view_count": null,
      "_view_module": "@jupyter-widgets/controls",
      "_view_module_version": "1.5.0",
      "_view_name": "HBoxView",
      "box_style": "",
      "children": [
       "IPY_MODEL_f5ca3c044806494188377661a1ac7c23",
       "IPY_MODEL_4d62bc29734c426a9fee534c8000e86d",
       "IPY_MODEL_a33711ebffd6492ab8c8ca5d8fc94246"
      ],
      "layout": "IPY_MODEL_3fc4655f1f0644a49022d72deb5afe2e"
     }
    },
    "f5ca3c044806494188377661a1ac7c23": {
     "model_module": "@jupyter-widgets/controls",
     "model_name": "HTMLModel",
     "model_module_version": "1.5.0",
     "state": {
      "_dom_classes": [],
      "_model_module": "@jupyter-widgets/controls",
      "_model_module_version": "1.5.0",
      "_model_name": "HTMLModel",
      "_view_count": null,
      "_view_module": "@jupyter-widgets/controls",
      "_view_module_version": "1.5.0",
      "_view_name": "HTMLView",
      "description": "",
      "description_tooltip": null,
      "layout": "IPY_MODEL_fe3c7d7b09ba4a4ca77a64ac52bd9aed",
      "placeholder": "​",
      "style": "IPY_MODEL_1679d6b01e2447768ae63912967429dd",
      "value": "config.json: 100%"
     }
    },
    "4d62bc29734c426a9fee534c8000e86d": {
     "model_module": "@jupyter-widgets/controls",
     "model_name": "FloatProgressModel",
     "model_module_version": "1.5.0",
     "state": {
      "_dom_classes": [],
      "_model_module": "@jupyter-widgets/controls",
      "_model_module_version": "1.5.0",
      "_model_name": "FloatProgressModel",
      "_view_count": null,
      "_view_module": "@jupyter-widgets/controls",
      "_view_module_version": "1.5.0",
      "_view_name": "ProgressView",
      "bar_style": "success",
      "description": "",
      "description_tooltip": null,
      "layout": "IPY_MODEL_d3cd76f7c2504c118431bc758d8690ec",
      "max": 508,
      "min": 0,
      "orientation": "horizontal",
      "style": "IPY_MODEL_9931f37e734a46c7bc836801d553cb23",
      "value": 508
     }
    },
    "a33711ebffd6492ab8c8ca5d8fc94246": {
     "model_module": "@jupyter-widgets/controls",
     "model_name": "HTMLModel",
     "model_module_version": "1.5.0",
     "state": {
      "_dom_classes": [],
      "_model_module": "@jupyter-widgets/controls",
      "_model_module_version": "1.5.0",
      "_model_name": "HTMLModel",
      "_view_count": null,
      "_view_module": "@jupyter-widgets/controls",
      "_view_module_version": "1.5.0",
      "_view_name": "HTMLView",
      "description": "",
      "description_tooltip": null,
      "layout": "IPY_MODEL_0219b06f94804c869d43e45fce06b4e5",
      "placeholder": "​",
      "style": "IPY_MODEL_828c06372560418db7e1be6f9e3e354e",
      "value": " 508/508 [00:00&lt;00:00, 8.81kB/s]"
     }
    },
    "3fc4655f1f0644a49022d72deb5afe2e": {
     "model_module": "@jupyter-widgets/base",
     "model_name": "LayoutModel",
     "model_module_version": "1.2.0",
     "state": {
      "_model_module": "@jupyter-widgets/base",
      "_model_module_version": "1.2.0",
      "_model_name": "LayoutModel",
      "_view_count": null,
      "_view_module": "@jupyter-widgets/base",
      "_view_module_version": "1.2.0",
      "_view_name": "LayoutView",
      "align_content": null,
      "align_items": null,
      "align_self": null,
      "border": null,
      "bottom": null,
      "display": null,
      "flex": null,
      "flex_flow": null,
      "grid_area": null,
      "grid_auto_columns": null,
      "grid_auto_flow": null,
      "grid_auto_rows": null,
      "grid_column": null,
      "grid_gap": null,
      "grid_row": null,
      "grid_template_areas": null,
      "grid_template_columns": null,
      "grid_template_rows": null,
      "height": null,
      "justify_content": null,
      "justify_items": null,
      "left": null,
      "margin": null,
      "max_height": null,
      "max_width": null,
      "min_height": null,
      "min_width": null,
      "object_fit": null,
      "object_position": null,
      "order": null,
      "overflow": null,
      "overflow_x": null,
      "overflow_y": null,
      "padding": null,
      "right": null,
      "top": null,
      "visibility": null,
      "width": null
     }
    },
    "fe3c7d7b09ba4a4ca77a64ac52bd9aed": {
     "model_module": "@jupyter-widgets/base",
     "model_name": "LayoutModel",
     "model_module_version": "1.2.0",
     "state": {
      "_model_module": "@jupyter-widgets/base",
      "_model_module_version": "1.2.0",
      "_model_name": "LayoutModel",
      "_view_count": null,
      "_view_module": "@jupyter-widgets/base",
      "_view_module_version": "1.2.0",
      "_view_name": "LayoutView",
      "align_content": null,
      "align_items": null,
      "align_self": null,
      "border": null,
      "bottom": null,
      "display": null,
      "flex": null,
      "flex_flow": null,
      "grid_area": null,
      "grid_auto_columns": null,
      "grid_auto_flow": null,
      "grid_auto_rows": null,
      "grid_column": null,
      "grid_gap": null,
      "grid_row": null,
      "grid_template_areas": null,
      "grid_template_columns": null,
      "grid_template_rows": null,
      "height": null,
      "justify_content": null,
      "justify_items": null,
      "left": null,
      "margin": null,
      "max_height": null,
      "max_width": null,
      "min_height": null,
      "min_width": null,
      "object_fit": null,
      "object_position": null,
      "order": null,
      "overflow": null,
      "overflow_x": null,
      "overflow_y": null,
      "padding": null,
      "right": null,
      "top": null,
      "visibility": null,
      "width": null
     }
    },
    "1679d6b01e2447768ae63912967429dd": {
     "model_module": "@jupyter-widgets/controls",
     "model_name": "DescriptionStyleModel",
     "model_module_version": "1.5.0",
     "state": {
      "_model_module": "@jupyter-widgets/controls",
      "_model_module_version": "1.5.0",
      "_model_name": "DescriptionStyleModel",
      "_view_count": null,
      "_view_module": "@jupyter-widgets/base",
      "_view_module_version": "1.2.0",
      "_view_name": "StyleView",
      "description_width": ""
     }
    },
    "d3cd76f7c2504c118431bc758d8690ec": {
     "model_module": "@jupyter-widgets/base",
     "model_name": "LayoutModel",
     "model_module_version": "1.2.0",
     "state": {
      "_model_module": "@jupyter-widgets/base",
      "_model_module_version": "1.2.0",
      "_model_name": "LayoutModel",
      "_view_count": null,
      "_view_module": "@jupyter-widgets/base",
      "_view_module_version": "1.2.0",
      "_view_name": "LayoutView",
      "align_content": null,
      "align_items": null,
      "align_self": null,
      "border": null,
      "bottom": null,
      "display": null,
      "flex": null,
      "flex_flow": null,
      "grid_area": null,
      "grid_auto_columns": null,
      "grid_auto_flow": null,
      "grid_auto_rows": null,
      "grid_column": null,
      "grid_gap": null,
      "grid_row": null,
      "grid_template_areas": null,
      "grid_template_columns": null,
      "grid_template_rows": null,
      "height": null,
      "justify_content": null,
      "justify_items": null,
      "left": null,
      "margin": null,
      "max_height": null,
      "max_width": null,
      "min_height": null,
      "min_width": null,
      "object_fit": null,
      "object_position": null,
      "order": null,
      "overflow": null,
      "overflow_x": null,
      "overflow_y": null,
      "padding": null,
      "right": null,
      "top": null,
      "visibility": null,
      "width": null
     }
    },
    "9931f37e734a46c7bc836801d553cb23": {
     "model_module": "@jupyter-widgets/controls",
     "model_name": "ProgressStyleModel",
     "model_module_version": "1.5.0",
     "state": {
      "_model_module": "@jupyter-widgets/controls",
      "_model_module_version": "1.5.0",
      "_model_name": "ProgressStyleModel",
      "_view_count": null,
      "_view_module": "@jupyter-widgets/base",
      "_view_module_version": "1.2.0",
      "_view_name": "StyleView",
      "bar_color": null,
      "description_width": ""
     }
    },
    "0219b06f94804c869d43e45fce06b4e5": {
     "model_module": "@jupyter-widgets/base",
     "model_name": "LayoutModel",
     "model_module_version": "1.2.0",
     "state": {
      "_model_module": "@jupyter-widgets/base",
      "_model_module_version": "1.2.0",
      "_model_name": "LayoutModel",
      "_view_count": null,
      "_view_module": "@jupyter-widgets/base",
      "_view_module_version": "1.2.0",
      "_view_name": "LayoutView",
      "align_content": null,
      "align_items": null,
      "align_self": null,
      "border": null,
      "bottom": null,
      "display": null,
      "flex": null,
      "flex_flow": null,
      "grid_area": null,
      "grid_auto_columns": null,
      "grid_auto_flow": null,
      "grid_auto_rows": null,
      "grid_column": null,
      "grid_gap": null,
      "grid_row": null,
      "grid_template_areas": null,
      "grid_template_columns": null,
      "grid_template_rows": null,
      "height": null,
      "justify_content": null,
      "justify_items": null,
      "left": null,
      "margin": null,
      "max_height": null,
      "max_width": null,
      "min_height": null,
      "min_width": null,
      "object_fit": null,
      "object_position": null,
      "order": null,
      "overflow": null,
      "overflow_x": null,
      "overflow_y": null,
      "padding": null,
      "right": null,
      "top": null,
      "visibility": null,
      "width": null
     }
    },
    "828c06372560418db7e1be6f9e3e354e": {
     "model_module": "@jupyter-widgets/controls",
     "model_name": "DescriptionStyleModel",
     "model_module_version": "1.5.0",
     "state": {
      "_model_module": "@jupyter-widgets/controls",
      "_model_module_version": "1.5.0",
      "_model_name": "DescriptionStyleModel",
      "_view_count": null,
      "_view_module": "@jupyter-widgets/base",
      "_view_module_version": "1.2.0",
      "_view_name": "StyleView",
      "description_width": ""
     }
    },
    "38fc1d111a114a88818430479ab307a0": {
     "model_module": "@jupyter-widgets/controls",
     "model_name": "HBoxModel",
     "model_module_version": "1.5.0",
     "state": {
      "_dom_classes": [],
      "_model_module": "@jupyter-widgets/controls",
      "_model_module_version": "1.5.0",
      "_model_name": "HBoxModel",
      "_view_count": null,
      "_view_module": "@jupyter-widgets/controls",
      "_view_module_version": "1.5.0",
      "_view_name": "HBoxView",
      "box_style": "",
      "children": [
       "IPY_MODEL_56069de1af0a4837916e3eb443c22b8f",
       "IPY_MODEL_419be5d5f6d34210a97e242fd96bb932",
       "IPY_MODEL_e05d4cef63cf4ab3a237ffcf20301523"
      ],
      "layout": "IPY_MODEL_3a23c984fcab4774b4295183e8bd7f80"
     }
    },
    "56069de1af0a4837916e3eb443c22b8f": {
     "model_module": "@jupyter-widgets/controls",
     "model_name": "HTMLModel",
     "model_module_version": "1.5.0",
     "state": {
      "_dom_classes": [],
      "_model_module": "@jupyter-widgets/controls",
      "_model_module_version": "1.5.0",
      "_model_name": "HTMLModel",
      "_view_count": null,
      "_view_module": "@jupyter-widgets/controls",
      "_view_module_version": "1.5.0",
      "_view_name": "HTMLView",
      "description": "",
      "description_tooltip": null,
      "layout": "IPY_MODEL_5e0b4eb08fd449d1962b2188ef78b778",
      "placeholder": "​",
      "style": "IPY_MODEL_95b45358155b40eead09da123ecae8a0",
      "value": "model.safetensors: 100%"
     }
    },
    "419be5d5f6d34210a97e242fd96bb932": {
     "model_module": "@jupyter-widgets/controls",
     "model_name": "FloatProgressModel",
     "model_module_version": "1.5.0",
     "state": {
      "_dom_classes": [],
      "_model_module": "@jupyter-widgets/controls",
      "_model_module_version": "1.5.0",
      "_model_name": "FloatProgressModel",
      "_view_count": null,
      "_view_module": "@jupyter-widgets/controls",
      "_view_module_version": "1.5.0",
      "_view_name": "ProgressView",
      "bar_style": "success",
      "description": "",
      "description_tooltip": null,
      "layout": "IPY_MODEL_6c070470b6c7492ea62a14b1f31058bc",
      "max": 445008750,
      "min": 0,
      "orientation": "horizontal",
      "style": "IPY_MODEL_cd0ed5970fd142c79b99ceaa045f832d",
      "value": 445008750
     }
    },
    "e05d4cef63cf4ab3a237ffcf20301523": {
     "model_module": "@jupyter-widgets/controls",
     "model_name": "HTMLModel",
     "model_module_version": "1.5.0",
     "state": {
      "_dom_classes": [],
      "_model_module": "@jupyter-widgets/controls",
      "_model_module_version": "1.5.0",
      "_model_name": "HTMLModel",
      "_view_count": null,
      "_view_module": "@jupyter-widgets/controls",
      "_view_module_version": "1.5.0",
      "_view_name": "HTMLView",
      "description": "",
      "description_tooltip": null,
      "layout": "IPY_MODEL_7b6d8d369d1146a187235a52d3a3e16b",
      "placeholder": "​",
      "style": "IPY_MODEL_7ffb0e7c160249a5aca8623e8794145b",
      "value": " 445M/445M [00:10&lt;00:00, 41.5MB/s]"
     }
    },
    "3a23c984fcab4774b4295183e8bd7f80": {
     "model_module": "@jupyter-widgets/base",
     "model_name": "LayoutModel",
     "model_module_version": "1.2.0",
     "state": {
      "_model_module": "@jupyter-widgets/base",
      "_model_module_version": "1.2.0",
      "_model_name": "LayoutModel",
      "_view_count": null,
      "_view_module": "@jupyter-widgets/base",
      "_view_module_version": "1.2.0",
      "_view_name": "LayoutView",
      "align_content": null,
      "align_items": null,
      "align_self": null,
      "border": null,
      "bottom": null,
      "display": null,
      "flex": null,
      "flex_flow": null,
      "grid_area": null,
      "grid_auto_columns": null,
      "grid_auto_flow": null,
      "grid_auto_rows": null,
      "grid_column": null,
      "grid_gap": null,
      "grid_row": null,
      "grid_template_areas": null,
      "grid_template_columns": null,
      "grid_template_rows": null,
      "height": null,
      "justify_content": null,
      "justify_items": null,
      "left": null,
      "margin": null,
      "max_height": null,
      "max_width": null,
      "min_height": null,
      "min_width": null,
      "object_fit": null,
      "object_position": null,
      "order": null,
      "overflow": null,
      "overflow_x": null,
      "overflow_y": null,
      "padding": null,
      "right": null,
      "top": null,
      "visibility": null,
      "width": null
     }
    },
    "5e0b4eb08fd449d1962b2188ef78b778": {
     "model_module": "@jupyter-widgets/base",
     "model_name": "LayoutModel",
     "model_module_version": "1.2.0",
     "state": {
      "_model_module": "@jupyter-widgets/base",
      "_model_module_version": "1.2.0",
      "_model_name": "LayoutModel",
      "_view_count": null,
      "_view_module": "@jupyter-widgets/base",
      "_view_module_version": "1.2.0",
      "_view_name": "LayoutView",
      "align_content": null,
      "align_items": null,
      "align_self": null,
      "border": null,
      "bottom": null,
      "display": null,
      "flex": null,
      "flex_flow": null,
      "grid_area": null,
      "grid_auto_columns": null,
      "grid_auto_flow": null,
      "grid_auto_rows": null,
      "grid_column": null,
      "grid_gap": null,
      "grid_row": null,
      "grid_template_areas": null,
      "grid_template_columns": null,
      "grid_template_rows": null,
      "height": null,
      "justify_content": null,
      "justify_items": null,
      "left": null,
      "margin": null,
      "max_height": null,
      "max_width": null,
      "min_height": null,
      "min_width": null,
      "object_fit": null,
      "object_position": null,
      "order": null,
      "overflow": null,
      "overflow_x": null,
      "overflow_y": null,
      "padding": null,
      "right": null,
      "top": null,
      "visibility": null,
      "width": null
     }
    },
    "95b45358155b40eead09da123ecae8a0": {
     "model_module": "@jupyter-widgets/controls",
     "model_name": "DescriptionStyleModel",
     "model_module_version": "1.5.0",
     "state": {
      "_model_module": "@jupyter-widgets/controls",
      "_model_module_version": "1.5.0",
      "_model_name": "DescriptionStyleModel",
      "_view_count": null,
      "_view_module": "@jupyter-widgets/base",
      "_view_module_version": "1.2.0",
      "_view_name": "StyleView",
      "description_width": ""
     }
    },
    "6c070470b6c7492ea62a14b1f31058bc": {
     "model_module": "@jupyter-widgets/base",
     "model_name": "LayoutModel",
     "model_module_version": "1.2.0",
     "state": {
      "_model_module": "@jupyter-widgets/base",
      "_model_module_version": "1.2.0",
      "_model_name": "LayoutModel",
      "_view_count": null,
      "_view_module": "@jupyter-widgets/base",
      "_view_module_version": "1.2.0",
      "_view_name": "LayoutView",
      "align_content": null,
      "align_items": null,
      "align_self": null,
      "border": null,
      "bottom": null,
      "display": null,
      "flex": null,
      "flex_flow": null,
      "grid_area": null,
      "grid_auto_columns": null,
      "grid_auto_flow": null,
      "grid_auto_rows": null,
      "grid_column": null,
      "grid_gap": null,
      "grid_row": null,
      "grid_template_areas": null,
      "grid_template_columns": null,
      "grid_template_rows": null,
      "height": null,
      "justify_content": null,
      "justify_items": null,
      "left": null,
      "margin": null,
      "max_height": null,
      "max_width": null,
      "min_height": null,
      "min_width": null,
      "object_fit": null,
      "object_position": null,
      "order": null,
      "overflow": null,
      "overflow_x": null,
      "overflow_y": null,
      "padding": null,
      "right": null,
      "top": null,
      "visibility": null,
      "width": null
     }
    },
    "cd0ed5970fd142c79b99ceaa045f832d": {
     "model_module": "@jupyter-widgets/controls",
     "model_name": "ProgressStyleModel",
     "model_module_version": "1.5.0",
     "state": {
      "_model_module": "@jupyter-widgets/controls",
      "_model_module_version": "1.5.0",
      "_model_name": "ProgressStyleModel",
      "_view_count": null,
      "_view_module": "@jupyter-widgets/base",
      "_view_module_version": "1.2.0",
      "_view_name": "StyleView",
      "bar_color": null,
      "description_width": ""
     }
    },
    "7b6d8d369d1146a187235a52d3a3e16b": {
     "model_module": "@jupyter-widgets/base",
     "model_name": "LayoutModel",
     "model_module_version": "1.2.0",
     "state": {
      "_model_module": "@jupyter-widgets/base",
      "_model_module_version": "1.2.0",
      "_model_name": "LayoutModel",
      "_view_count": null,
      "_view_module": "@jupyter-widgets/base",
      "_view_module_version": "1.2.0",
      "_view_name": "LayoutView",
      "align_content": null,
      "align_items": null,
      "align_self": null,
      "border": null,
      "bottom": null,
      "display": null,
      "flex": null,
      "flex_flow": null,
      "grid_area": null,
      "grid_auto_columns": null,
      "grid_auto_flow": null,
      "grid_auto_rows": null,
      "grid_column": null,
      "grid_gap": null,
      "grid_row": null,
      "grid_template_areas": null,
      "grid_template_columns": null,
      "grid_template_rows": null,
      "height": null,
      "justify_content": null,
      "justify_items": null,
      "left": null,
      "margin": null,
      "max_height": null,
      "max_width": null,
      "min_height": null,
      "min_width": null,
      "object_fit": null,
      "object_position": null,
      "order": null,
      "overflow": null,
      "overflow_x": null,
      "overflow_y": null,
      "padding": null,
      "right": null,
      "top": null,
      "visibility": null,
      "width": null
     }
    },
    "7ffb0e7c160249a5aca8623e8794145b": {
     "model_module": "@jupyter-widgets/controls",
     "model_name": "DescriptionStyleModel",
     "model_module_version": "1.5.0",
     "state": {
      "_model_module": "@jupyter-widgets/controls",
      "_model_module_version": "1.5.0",
      "_model_name": "DescriptionStyleModel",
      "_view_count": null,
      "_view_module": "@jupyter-widgets/base",
      "_view_module_version": "1.2.0",
      "_view_name": "StyleView",
      "description_width": ""
     }
    },
    "2358b3061f854e818fd30824c7fa626e": {
     "model_module": "@jupyter-widgets/controls",
     "model_name": "HBoxModel",
     "model_module_version": "1.5.0",
     "state": {
      "_dom_classes": [],
      "_model_module": "@jupyter-widgets/controls",
      "_model_module_version": "1.5.0",
      "_model_name": "HBoxModel",
      "_view_count": null,
      "_view_module": "@jupyter-widgets/controls",
      "_view_module_version": "1.5.0",
      "_view_name": "HBoxView",
      "box_style": "",
      "children": [
       "IPY_MODEL_d49e421f32bc4fbdbc828233b8d508a3",
       "IPY_MODEL_69eaf3afc2254bd7bd5054f5a7f5e847",
       "IPY_MODEL_3d1df691726a4821a4179307bc804a9f"
      ],
      "layout": "IPY_MODEL_412712213eaa4645bb63cfc22657f739"
     }
    },
    "d49e421f32bc4fbdbc828233b8d508a3": {
     "model_module": "@jupyter-widgets/controls",
     "model_name": "HTMLModel",
     "model_module_version": "1.5.0",
     "state": {
      "_dom_classes": [],
      "_model_module": "@jupyter-widgets/controls",
      "_model_module_version": "1.5.0",
      "_model_name": "HTMLModel",
      "_view_count": null,
      "_view_module": "@jupyter-widgets/controls",
      "_view_module_version": "1.5.0",
      "_view_name": "HTMLView",
      "description": "",
      "description_tooltip": null,
      "layout": "IPY_MODEL_481276f3889b4fa6be0d7391f3646220",
      "placeholder": "​",
      "style": "IPY_MODEL_1f8102b6153a440c9948f90ee4cf877b",
      "value": "Calcul des embeddings:   0%"
     }
    },
    "69eaf3afc2254bd7bd5054f5a7f5e847": {
     "model_module": "@jupyter-widgets/controls",
     "model_name": "FloatProgressModel",
     "model_module_version": "1.5.0",
     "state": {
      "_dom_classes": [],
      "_model_module": "@jupyter-widgets/controls",
      "_model_module_version": "1.5.0",
      "_model_name": "FloatProgressModel",
      "_view_count": null,
      "_view_module": "@jupyter-widgets/controls",
      "_view_module_version": "1.5.0",
      "_view_name": "ProgressView",
      "bar_style": "danger",
      "description": "",
      "description_tooltip": null,
      "layout": "IPY_MODEL_ce19ee930880465c882341e8c04b0e6c",
      "max": 22633,
      "min": 0,
      "orientation": "horizontal",
      "style": "IPY_MODEL_2695b29b296343e08bd1f308c51686e1",
      "value": 25
     }
    },
    "3d1df691726a4821a4179307bc804a9f": {
     "model_module": "@jupyter-widgets/controls",
     "model_name": "HTMLModel",
     "model_module_version": "1.5.0",
     "state": {
      "_dom_classes": [],
      "_model_module": "@jupyter-widgets/controls",
      "_model_module_version": "1.5.0",
      "_model_name": "HTMLModel",
      "_view_count": null,
      "_view_module": "@jupyter-widgets/controls",
      "_view_module_version": "1.5.0",
      "_view_name": "HTMLView",
      "description": "",
      "description_tooltip": null,
      "layout": "IPY_MODEL_cf044170d29e45dcb9ab9e90bd38512e",
      "placeholder": "​",
      "style": "IPY_MODEL_22af321c727446fe8d4453fd00762b72",
      "value": " 25/22633 [00:23&lt;7:37:24,  1.21s/it]"
     }
    },
    "412712213eaa4645bb63cfc22657f739": {
     "model_module": "@jupyter-widgets/base",
     "model_name": "LayoutModel",
     "model_module_version": "1.2.0",
     "state": {
      "_model_module": "@jupyter-widgets/base",
      "_model_module_version": "1.2.0",
      "_model_name": "LayoutModel",
      "_view_count": null,
      "_view_module": "@jupyter-widgets/base",
      "_view_module_version": "1.2.0",
      "_view_name": "LayoutView",
      "align_content": null,
      "align_items": null,
      "align_self": null,
      "border": null,
      "bottom": null,
      "display": null,
      "flex": null,
      "flex_flow": null,
      "grid_area": null,
      "grid_auto_columns": null,
      "grid_auto_flow": null,
      "grid_auto_rows": null,
      "grid_column": null,
      "grid_gap": null,
      "grid_row": null,
      "grid_template_areas": null,
      "grid_template_columns": null,
      "grid_template_rows": null,
      "height": null,
      "justify_content": null,
      "justify_items": null,
      "left": null,
      "margin": null,
      "max_height": null,
      "max_width": null,
      "min_height": null,
      "min_width": null,
      "object_fit": null,
      "object_position": null,
      "order": null,
      "overflow": null,
      "overflow_x": null,
      "overflow_y": null,
      "padding": null,
      "right": null,
      "top": null,
      "visibility": null,
      "width": null
     }
    },
    "481276f3889b4fa6be0d7391f3646220": {
     "model_module": "@jupyter-widgets/base",
     "model_name": "LayoutModel",
     "model_module_version": "1.2.0",
     "state": {
      "_model_module": "@jupyter-widgets/base",
      "_model_module_version": "1.2.0",
      "_model_name": "LayoutModel",
      "_view_count": null,
      "_view_module": "@jupyter-widgets/base",
      "_view_module_version": "1.2.0",
      "_view_name": "LayoutView",
      "align_content": null,
      "align_items": null,
      "align_self": null,
      "border": null,
      "bottom": null,
      "display": null,
      "flex": null,
      "flex_flow": null,
      "grid_area": null,
      "grid_auto_columns": null,
      "grid_auto_flow": null,
      "grid_auto_rows": null,
      "grid_column": null,
      "grid_gap": null,
      "grid_row": null,
      "grid_template_areas": null,
      "grid_template_columns": null,
      "grid_template_rows": null,
      "height": null,
      "justify_content": null,
      "justify_items": null,
      "left": null,
      "margin": null,
      "max_height": null,
      "max_width": null,
      "min_height": null,
      "min_width": null,
      "object_fit": null,
      "object_position": null,
      "order": null,
      "overflow": null,
      "overflow_x": null,
      "overflow_y": null,
      "padding": null,
      "right": null,
      "top": null,
      "visibility": null,
      "width": null
     }
    },
    "1f8102b6153a440c9948f90ee4cf877b": {
     "model_module": "@jupyter-widgets/controls",
     "model_name": "DescriptionStyleModel",
     "model_module_version": "1.5.0",
     "state": {
      "_model_module": "@jupyter-widgets/controls",
      "_model_module_version": "1.5.0",
      "_model_name": "DescriptionStyleModel",
      "_view_count": null,
      "_view_module": "@jupyter-widgets/base",
      "_view_module_version": "1.2.0",
      "_view_name": "StyleView",
      "description_width": ""
     }
    },
    "ce19ee930880465c882341e8c04b0e6c": {
     "model_module": "@jupyter-widgets/base",
     "model_name": "LayoutModel",
     "model_module_version": "1.2.0",
     "state": {
      "_model_module": "@jupyter-widgets/base",
      "_model_module_version": "1.2.0",
      "_model_name": "LayoutModel",
      "_view_count": null,
      "_view_module": "@jupyter-widgets/base",
      "_view_module_version": "1.2.0",
      "_view_name": "LayoutView",
      "align_content": null,
      "align_items": null,
      "align_self": null,
      "border": null,
      "bottom": null,
      "display": null,
      "flex": null,
      "flex_flow": null,
      "grid_area": null,
      "grid_auto_columns": null,
      "grid_auto_flow": null,
      "grid_auto_rows": null,
      "grid_column": null,
      "grid_gap": null,
      "grid_row": null,
      "grid_template_areas": null,
      "grid_template_columns": null,
      "grid_template_rows": null,
      "height": null,
      "justify_content": null,
      "justify_items": null,
      "left": null,
      "margin": null,
      "max_height": null,
      "max_width": null,
      "min_height": null,
      "min_width": null,
      "object_fit": null,
      "object_position": null,
      "order": null,
      "overflow": null,
      "overflow_x": null,
      "overflow_y": null,
      "padding": null,
      "right": null,
      "top": null,
      "visibility": null,
      "width": null
     }
    },
    "2695b29b296343e08bd1f308c51686e1": {
     "model_module": "@jupyter-widgets/controls",
     "model_name": "ProgressStyleModel",
     "model_module_version": "1.5.0",
     "state": {
      "_model_module": "@jupyter-widgets/controls",
      "_model_module_version": "1.5.0",
      "_model_name": "ProgressStyleModel",
      "_view_count": null,
      "_view_module": "@jupyter-widgets/base",
      "_view_module_version": "1.2.0",
      "_view_name": "StyleView",
      "bar_color": null,
      "description_width": ""
     }
    },
    "cf044170d29e45dcb9ab9e90bd38512e": {
     "model_module": "@jupyter-widgets/base",
     "model_name": "LayoutModel",
     "model_module_version": "1.2.0",
     "state": {
      "_model_module": "@jupyter-widgets/base",
      "_model_module_version": "1.2.0",
      "_model_name": "LayoutModel",
      "_view_count": null,
      "_view_module": "@jupyter-widgets/base",
      "_view_module_version": "1.2.0",
      "_view_name": "LayoutView",
      "align_content": null,
      "align_items": null,
      "align_self": null,
      "border": null,
      "bottom": null,
      "display": null,
      "flex": null,
      "flex_flow": null,
      "grid_area": null,
      "grid_auto_columns": null,
      "grid_auto_flow": null,
      "grid_auto_rows": null,
      "grid_column": null,
      "grid_gap": null,
      "grid_row": null,
      "grid_template_areas": null,
      "grid_template_columns": null,
      "grid_template_rows": null,
      "height": null,
      "justify_content": null,
      "justify_items": null,
      "left": null,
      "margin": null,
      "max_height": null,
      "max_width": null,
      "min_height": null,
      "min_width": null,
      "object_fit": null,
      "object_position": null,
      "order": null,
      "overflow": null,
      "overflow_x": null,
      "overflow_y": null,
      "padding": null,
      "right": null,
      "top": null,
      "visibility": null,
      "width": null
     }
    },
    "22af321c727446fe8d4453fd00762b72": {
     "model_module": "@jupyter-widgets/controls",
     "model_name": "DescriptionStyleModel",
     "model_module_version": "1.5.0",
     "state": {
      "_model_module": "@jupyter-widgets/controls",
      "_model_module_version": "1.5.0",
      "_model_name": "DescriptionStyleModel",
      "_view_count": null,
      "_view_module": "@jupyter-widgets/base",
      "_view_module_version": "1.2.0",
      "_view_name": "StyleView",
      "description_width": ""
     }
    }
   }
  }
 },
 "nbformat": 4,
 "nbformat_minor": 0
}
